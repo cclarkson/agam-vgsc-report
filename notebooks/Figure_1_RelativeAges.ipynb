{
 "cells": [
  {
   "cell_type": "markdown",
   "metadata": {},
   "source": [
    "# Analysis of haplotype age - infer direction of movement "
   ]
  },
  {
   "cell_type": "code",
   "execution_count": 6,
   "metadata": {},
   "outputs": [
    {
     "data": {
      "text/html": [
       "<style type=\"text/css\">\n",
       ".container {\n",
       "    width: 100%;\n",
       "}\n",
       "div#notebook {\n",
       "    padding-top: 1em;\n",
       "}\n",
       "#header-container {\n",
       "    display: none;\n",
       "}\n",
       "#header-bar {\n",
       "    display: none;\n",
       "}\n",
       "#maintoolbar {\n",
       "    display: none;\n",
       "}\n",
       "#menubar-container {\n",
       "    position: fixed;\n",
       "    margin-top: 0;\n",
       "}\n",
       "#site {\n",
       "    height: auto !important;\n",
       "}\n",
       "</style>"
      ],
      "text/plain": [
       "<IPython.core.display.HTML object>"
      ]
     },
     "metadata": {},
     "output_type": "display_data"
    }
   ],
   "source": [
    "%run setup.ipynb\n",
    "%matplotlib inline\n",
    "import hapclust"
   ]
  },
  {
   "cell_type": "markdown",
   "metadata": {},
   "source": [
    "## setup"
   ]
  },
  {
   "cell_type": "code",
   "execution_count": 7,
   "metadata": {
    "collapsed": true
   },
   "outputs": [],
   "source": [
    "# obtain data from unphased callset - only needed for variant annotations\n",
    "callset = phase1_ar31.callset\n",
    "pos_all = allel.SortedIndex(callset['2L/variants/POS'])\n",
    "ann_all = callset['2L/variants/ANN'][:][['Annotation', 'HGVS_p']]"
   ]
  },
  {
   "cell_type": "code",
   "execution_count": 8,
   "metadata": {},
   "outputs": [
    {
     "data": {
      "text/plain": [
       "((8296600, 773, 2), (8296600,))"
      ]
     },
     "execution_count": 8,
     "metadata": {},
     "output_type": "execute_result"
    }
   ],
   "source": [
    "# setup haplotype data\n",
    "callset_phased = phase1_ar31.callset_phased\n",
    "genotypes_phased = allel.GenotypeDaskArray(callset_phased['2L/calldata/genotype'])\n",
    "pos_phased = allel.SortedIndex(callset_phased['2L/variants/POS'])\n",
    "genotypes_phased.shape, pos_phased.shape"
   ]
  },
  {
   "cell_type": "code",
   "execution_count": 9,
   "metadata": {
    "collapsed": true
   },
   "outputs": [],
   "source": [
    "pos_kdr_s = 2422651\n",
    "pos_kdr_f = 2422652"
   ]
  },
  {
   "cell_type": "code",
   "execution_count": 10,
   "metadata": {},
   "outputs": [
    {
     "data": {
      "text/html": [
       "<div class=\"allel allel-DisplayAs1D\"><span>&lt;SortedIndex shape=(163963,) dtype=int32&gt;</span><table><tr><th style=\"text-align: center\">0</th><th style=\"text-align: center\">1</th><th style=\"text-align: center\">2</th><th style=\"text-align: center\">3</th><th style=\"text-align: center\">4</th><th style=\"text-align: center\">...</th><th style=\"text-align: center\">163958</th><th style=\"text-align: center\">163959</th><th style=\"text-align: center\">163960</th><th style=\"text-align: center\">163961</th><th style=\"text-align: center\">163962</th></tr><tr><td style=\"text-align: center\">44688</td><td style=\"text-align: center\">44691</td><td style=\"text-align: center\">44732</td><td style=\"text-align: center\">44736</td><td style=\"text-align: center\">44756</td><td style=\"text-align: center\">...</td><td style=\"text-align: center\">3997372</td><td style=\"text-align: center\">3997373</td><td style=\"text-align: center\">3997378</td><td style=\"text-align: center\">3997381</td><td style=\"text-align: center\">3997386</td></tr></table></div>"
      ],
      "text/plain": [
       "<SortedIndex shape=(163963,) dtype=int32>\n",
       "[44688, 44691, 44732, 44736, 44756, ..., 3997372, 3997373, 3997378, 3997381, 3997386]"
      ]
     },
     "execution_count": 10,
     "metadata": {},
     "output_type": "execute_result"
    }
   ],
   "source": [
    "# define region we're going to analyse\n",
    "loc_region = pos_phased.locate_range(0, 4000000)\n",
    "pos_phased_region = pos_phased[loc_region]\n",
    "pos_phased_region"
   ]
  },
  {
   "cell_type": "code",
   "execution_count": 11,
   "metadata": {},
   "outputs": [
    {
     "data": {
      "text/plain": [
       "(163963, 765, 2)"
      ]
     },
     "execution_count": 11,
     "metadata": {},
     "output_type": "execute_result"
    }
   ],
   "source": [
    "# chop genotypes to region, remove colony parents (8 samples) and turn into haplotype array\n",
    "gen_phased_region = genotypes_phased[loc_region][:, :-8].compute()\n",
    "gen_phased_region.shape\n",
    "# don't turn in .to_haplotypes() yet - might be easier to interleave new positions first, then turn whole lot into hap"
   ]
  },
  {
   "cell_type": "code",
   "execution_count": null,
   "metadata": {
    "collapsed": true
   },
   "outputs": [],
   "source": []
  }
 ],
 "metadata": {
  "kernelspec": {
   "display_name": "Python 3",
   "language": "python",
   "name": "python3"
  },
  "language_info": {
   "codemirror_mode": {
    "name": "ipython",
    "version": 3
   },
   "file_extension": ".py",
   "mimetype": "text/x-python",
   "name": "python",
   "nbconvert_exporter": "python",
   "pygments_lexer": "ipython3",
   "version": "3.5.3"
  }
 },
 "nbformat": 4,
 "nbformat_minor": 2
}
