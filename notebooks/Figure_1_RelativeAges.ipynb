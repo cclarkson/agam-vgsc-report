{
 "cells": [
  {
   "cell_type": "code",
   "execution_count": 1,
   "metadata": {
    "collapsed": true
   },
   "outputs": [],
   "source": [
    "# Analysis of haplotype age - infer direction of movement "
   ]
  },
  {
   "cell_type": "code",
   "execution_count": 2,
   "metadata": {},
   "outputs": [
    {
     "data": {
      "text/html": [
       "<style type=\"text/css\">\n",
       ".container {\n",
       "    width: 100%;\n",
       "}\n",
       "div#notebook {\n",
       "    padding-top: 1em;\n",
       "}\n",
       "#header-container {\n",
       "    display: none;\n",
       "}\n",
       "#header-bar {\n",
       "    display: none;\n",
       "}\n",
       "#maintoolbar {\n",
       "    display: none;\n",
       "}\n",
       "#menubar-container {\n",
       "    position: fixed;\n",
       "    margin-top: 0;\n",
       "}\n",
       "#site {\n",
       "    height: auto !important;\n",
       "}\n",
       "</style>"
      ],
      "text/plain": [
       "<IPython.core.display.HTML object>"
      ]
     },
     "metadata": {},
     "output_type": "display_data"
    }
   ],
   "source": [
    "%run setup.ipynb\n",
    "%matplotlib inline\n",
    "import hapclust\n"
   ]
  },
  {
   "cell_type": "markdown",
   "metadata": {},
   "source": [
    "##### NOTES\n",
    "We need to look at Ghana (e.g. in phase 2) and Mali to see if we see the 'correct' age pattern shows in gam/col samples from the same site/collection date i.e. that tmrca is shorter in col than gam – UNLIKE WHAT WE SEE IN BURKINA - see below\n",
    "\n",
    "##### Between haplogroups\n"
   ]
  },
  {
   "cell_type": "markdown",
   "metadata": {},
   "source": [
    "## setup"
   ]
  },
  {
   "cell_type": "code",
   "execution_count": 3,
   "metadata": {},
   "outputs": [
    {
     "data": {
      "text/plain": [
       "((8296600, 773, 2), (8296600,))"
      ]
     },
     "execution_count": 3,
     "metadata": {},
     "output_type": "execute_result"
    }
   ],
   "source": [
    "# obtain data from unphased callset - only needed for variant annotations\n",
    "callset = phase1_ar31.callset\n",
    "pos_all = allel.SortedIndex(callset['2L/variants/POS'])\n",
    "ann_all = callset['2L/variants/ANN'][:][['Annotation', 'HGVS_p']]\n",
    "\n",
    "# setup haplotype data\n",
    "callset_phased = phase1_ar31.callset_phased\n",
    "genotypes_phased = allel.GenotypeDaskArray(callset_phased['2L/calldata/genotype'])\n",
    "pos_phased = allel.SortedIndex(callset_phased['2L/variants/POS'])\n",
    "genotypes_phased.shape, pos_phased.shape"
   ]
  },
  {
   "cell_type": "code",
   "execution_count": 4,
   "metadata": {
    "collapsed": true
   },
   "outputs": [],
   "source": [
    "pos_kdr_s = 2422651\n",
    "pos_kdr_f = 2422652"
   ]
  },
  {
   "cell_type": "code",
   "execution_count": 5,
   "metadata": {},
   "outputs": [
    {
     "data": {
      "text/html": [
       "<div class=\"allel allel-DisplayAs1D\"><span>&lt;SortedIndex shape=(163963,) dtype=int32&gt;</span><table><thead><tr><th style=\"text-align: center\">0</th><th style=\"text-align: center\">1</th><th style=\"text-align: center\">2</th><th style=\"text-align: center\">3</th><th style=\"text-align: center\">4</th><th style=\"text-align: center\">...</th><th style=\"text-align: center\">163958</th><th style=\"text-align: center\">163959</th><th style=\"text-align: center\">163960</th><th style=\"text-align: center\">163961</th><th style=\"text-align: center\">163962</th></tr></thead><tbody><tr><td style=\"text-align: center\">44688</td><td style=\"text-align: center\">44691</td><td style=\"text-align: center\">44732</td><td style=\"text-align: center\">44736</td><td style=\"text-align: center\">44756</td><td style=\"text-align: center\">...</td><td style=\"text-align: center\">3997372</td><td style=\"text-align: center\">3997373</td><td style=\"text-align: center\">3997378</td><td style=\"text-align: center\">3997381</td><td style=\"text-align: center\">3997386</td></tr></tbody></table></div>"
      ],
      "text/plain": [
       "<SortedIndex shape=(163963,) dtype=int32>\n",
       "[44688, 44691, 44732, 44736, 44756, ..., 3997372, 3997373, 3997378, 3997381, 3997386]"
      ]
     },
     "execution_count": 5,
     "metadata": {},
     "output_type": "execute_result"
    }
   ],
   "source": [
    "# define region we're going to analyse\n",
    "loc_region = pos_phased.locate_range(0, 4000000)\n",
    "pos_phased_region = pos_phased[loc_region]\n",
    "pos_phased_region"
   ]
  },
  {
   "cell_type": "code",
   "execution_count": 6,
   "metadata": {},
   "outputs": [
    {
     "data": {
      "text/plain": [
       "(163963, 765, 2)"
      ]
     },
     "execution_count": 6,
     "metadata": {},
     "output_type": "execute_result"
    }
   ],
   "source": [
    "# chop genotypes to region, remove colony parents (8 samples) and turn into haplotype array\n",
    "gen_phased_region = genotypes_phased[loc_region][:, :-8].compute()\n",
    "gen_phased_region.shape"
   ]
  },
  {
   "cell_type": "markdown",
   "metadata": {
    "collapsed": true
   },
   "source": [
    "#### grab mvncall"
   ]
  },
  {
   "cell_type": "code",
   "execution_count": 7,
   "metadata": {},
   "outputs": [
    {
     "data": {
      "text/html": [
       "<div class=\"allel allel-DisplayAs1D\"><span>&lt;SortedIndex shape=(3,) dtype=int32&gt;</span><table><thead><tr><th style=\"text-align: center\">0</th><th style=\"text-align: center\">1</th><th style=\"text-align: center\">2</th></tr></thead><tbody><tr><td style=\"text-align: center\">2391228</td><td style=\"text-align: center\">2400071</td><td style=\"text-align: center\">2429745</td></tr></tbody></table></div>"
      ],
      "text/plain": [
       "<SortedIndex shape=(3,) dtype=int32>\n",
       "[2391228, 2400071, 2429745]"
      ]
     },
     "execution_count": 7,
     "metadata": {},
     "output_type": "execute_result"
    }
   ],
   "source": [
    "#genotypes\n",
    "mvn_200 = np.load('../data/phasing_extra_phase1.mvncall.200.npz')\n",
    "call_mvn = mvn_200['calldata']\n",
    "gen_mvn = allel.GenotypeArray(call_mvn['genotype'])\n",
    "\n",
    "#positions\n",
    "pos_mvn = allel.SortedIndex(mvn_200['variants']['POS'])\n",
    "pos_mvn"
   ]
  },
  {
   "cell_type": "markdown",
   "metadata": {},
   "source": [
    "#### weave mvncall"
   ]
  },
  {
   "cell_type": "code",
   "execution_count": 8,
   "metadata": {},
   "outputs": [
    {
     "data": {
      "text/html": [
       "<div class=\"allel allel-DisplayAs2D\"><span>&lt;HaplotypeArray shape=(163966, 1530) dtype=int8&gt;</span><table><thead><tr><th></th><th style=\"text-align: center\">0</th><th style=\"text-align: center\">1</th><th style=\"text-align: center\">2</th><th style=\"text-align: center\">3</th><th style=\"text-align: center\">4</th><th style=\"text-align: center\">...</th><th style=\"text-align: center\">1525</th><th style=\"text-align: center\">1526</th><th style=\"text-align: center\">1527</th><th style=\"text-align: center\">1528</th><th style=\"text-align: center\">1529</th></tr></thead><tbody><tr><th style=\"text-align: center; background-color: white; border-right: 1px solid black; \">0</th><td style=\"text-align: center\">0</td><td style=\"text-align: center\">0</td><td style=\"text-align: center\">0</td><td style=\"text-align: center\">0</td><td style=\"text-align: center\">0</td><td style=\"text-align: center\">...</td><td style=\"text-align: center\">0</td><td style=\"text-align: center\">0</td><td style=\"text-align: center\">0</td><td style=\"text-align: center\">0</td><td style=\"text-align: center\">0</td></tr><tr><th style=\"text-align: center; background-color: white; border-right: 1px solid black; \">1</th><td style=\"text-align: center\">0</td><td style=\"text-align: center\">0</td><td style=\"text-align: center\">0</td><td style=\"text-align: center\">0</td><td style=\"text-align: center\">0</td><td style=\"text-align: center\">...</td><td style=\"text-align: center\">0</td><td style=\"text-align: center\">0</td><td style=\"text-align: center\">0</td><td style=\"text-align: center\">0</td><td style=\"text-align: center\">0</td></tr><tr><th style=\"text-align: center; background-color: white; border-right: 1px solid black; \">2</th><td style=\"text-align: center\">0</td><td style=\"text-align: center\">0</td><td style=\"text-align: center\">0</td><td style=\"text-align: center\">0</td><td style=\"text-align: center\">0</td><td style=\"text-align: center\">...</td><td style=\"text-align: center\">0</td><td style=\"text-align: center\">0</td><td style=\"text-align: center\">0</td><td style=\"text-align: center\">0</td><td style=\"text-align: center\">0</td></tr><tr><th style=\"text-align: center; background-color: white; border-right: 1px solid black; \">...</th><td style=\"text-align: center\" colspan=\"12\">...</td></tr><tr><th style=\"text-align: center; background-color: white; border-right: 1px solid black; \">163963</th><td style=\"text-align: center\">0</td><td style=\"text-align: center\">0</td><td style=\"text-align: center\">0</td><td style=\"text-align: center\">0</td><td style=\"text-align: center\">0</td><td style=\"text-align: center\">...</td><td style=\"text-align: center\">0</td><td style=\"text-align: center\">0</td><td style=\"text-align: center\">0</td><td style=\"text-align: center\">0</td><td style=\"text-align: center\">0</td></tr><tr><th style=\"text-align: center; background-color: white; border-right: 1px solid black; \">163964</th><td style=\"text-align: center\">0</td><td style=\"text-align: center\">0</td><td style=\"text-align: center\">0</td><td style=\"text-align: center\">0</td><td style=\"text-align: center\">0</td><td style=\"text-align: center\">...</td><td style=\"text-align: center\">0</td><td style=\"text-align: center\">0</td><td style=\"text-align: center\">0</td><td style=\"text-align: center\">0</td><td style=\"text-align: center\">0</td></tr><tr><th style=\"text-align: center; background-color: white; border-right: 1px solid black; \">163965</th><td style=\"text-align: center\">0</td><td style=\"text-align: center\">0</td><td style=\"text-align: center\">0</td><td style=\"text-align: center\">0</td><td style=\"text-align: center\">0</td><td style=\"text-align: center\">...</td><td style=\"text-align: center\">0</td><td style=\"text-align: center\">0</td><td style=\"text-align: center\">0</td><td style=\"text-align: center\">0</td><td style=\"text-align: center\">0</td></tr></tbody></table></div>"
      ],
      "text/plain": [
       "<HaplotypeArray shape=(163966, 1530) dtype=int8>\n",
       "0 0 0 0 0 ... 0 0 0 0 0\n",
       "0 0 0 0 0 ... 0 0 0 0 0\n",
       "0 0 0 0 0 ... 0 0 0 0 0\n",
       "...\n",
       "0 0 0 0 0 ... 0 0 0 0 0\n",
       "0 0 0 0 0 ... 0 0 0 0 0\n",
       "0 0 0 0 0 ... 0 0 0 0 0"
      ]
     },
     "execution_count": 8,
     "metadata": {},
     "output_type": "execute_result"
    }
   ],
   "source": [
    "#concatenate old and new gen/pos arrays\n",
    "haps_combined = np.concatenate([gen_phased_region, gen_mvn], axis=0)\n",
    "pos_combined = np.concatenate([pos_phased_region, pos_mvn], axis=0)\n",
    "\n",
    "#sort pos indices\n",
    "idx_sorted =np.argsort(pos_combined)\n",
    "\n",
    "#use sorted indices to re-order the combined arrays\n",
    "haps_combined = allel.GenotypeArray(haps_combined[idx_sorted])\n",
    "\n",
    "pos_combined = allel.SortedIndex(pos_combined[idx_sorted])\n",
    "\n",
    "#then turn into haplotype array...\n",
    "haps = haps_combined.to_haplotypes()\n",
    "haps"
   ]
  },
  {
   "cell_type": "markdown",
   "metadata": {},
   "source": [
    "#### tie in annotations"
   ]
  },
  {
   "cell_type": "code",
   "execution_count": 9,
   "metadata": {},
   "outputs": [
    {
     "data": {
      "text/plain": [
       "Counter({b'3_prime_UTR_variant': 2941,\n",
       "         b'5_prime_UTR_premature_start_codon_': 306,\n",
       "         b'5_prime_UTR_variant': 1677,\n",
       "         b'downstream_gene_variant': 18539,\n",
       "         b'initiator_codon_variant': 3,\n",
       "         b'intergenic_region': 54849,\n",
       "         b'intragenic_variant': 48,\n",
       "         b'intron_variant': 32362,\n",
       "         b'missense_variant': 5808,\n",
       "         b'missense_variant&splice_region_var': 70,\n",
       "         b'splice_acceptor_variant&intron_var': 24,\n",
       "         b'splice_donor_variant&intron_varian': 27,\n",
       "         b'splice_region_variant': 36,\n",
       "         b'splice_region_variant&intron_varia': 649,\n",
       "         b'splice_region_variant&stop_retaine': 5,\n",
       "         b'splice_region_variant&synonymous_v': 87,\n",
       "         b'start_lost': 9,\n",
       "         b'stop_gained': 37,\n",
       "         b'stop_lost&splice_region_variant': 4,\n",
       "         b'stop_retained_variant': 5,\n",
       "         b'synonymous_variant': 8636,\n",
       "         b'upstream_gene_variant': 37844})"
      ]
     },
     "execution_count": 9,
     "metadata": {},
     "output_type": "execute_result"
    }
   ],
   "source": [
    "# locate the intersection with unphased callset - needed to tie in annotations\n",
    "loc1, _ = pos_all.locate_intersection(pos_combined)\n",
    "np.count_nonzero(loc1)\n",
    "\n",
    "ann_combined = ann_all[loc1]\n",
    "ann_combined\n",
    "\n",
    "collections.Counter(ann_combined['Annotation'])"
   ]
  },
  {
   "cell_type": "code",
   "execution_count": 10,
   "metadata": {},
   "outputs": [
    {
     "data": {
      "text/html": [
       "<div class=\"allel allel-DisplayAs2D\"><span>&lt;AlleleCountsArray shape=(1, 3) dtype=int32&gt;</span><table><thead><tr><th></th><th style=\"text-align: center\">0</th><th style=\"text-align: center\">1</th><th style=\"text-align: center\">2</th></tr></thead><tbody><tr><th style=\"text-align: center; background-color: white; border-right: 1px solid black; \">0</th><td style=\"text-align: center\">1529</td><td style=\"text-align: center\">   1</td><td style=\"text-align: center\">   0</td></tr></tbody></table></div>"
      ],
      "text/plain": [
       "<AlleleCountsArray shape=(1, 3) dtype=int32>\n",
       "1529    1    0"
      ]
     },
     "execution_count": 10,
     "metadata": {},
     "output_type": "execute_result"
    }
   ],
   "source": [
    "# perform allele count - needed to locate singletons - NEED TO UP MAX ALLELE TO 2 - MULTI ALLELICS?\n",
    "ac_combined = haps.count_alleles(max_allele=2)\n",
    "ac_combined[:1]"
   ]
  },
  {
   "cell_type": "markdown",
   "metadata": {},
   "source": [
    "#### setup missense variation"
   ]
  },
  {
   "cell_type": "code",
   "execution_count": 11,
   "metadata": {},
   "outputs": [
    {
     "data": {
      "text/plain": [
       "slice(24471, 26184, None)"
      ]
     },
     "execution_count": 11,
     "metadata": {},
     "output_type": "execute_result"
    }
   ],
   "source": [
    "# convenience, define the Vgsc gene region\n",
    "region_vgsc = SeqFeature('2L', 2358158, 2431617, label='Vgsc')\n",
    "loc_vgsc = pos_combined.locate_range(region_vgsc.start, region_vgsc.end)\n",
    "loc_vgsc"
   ]
  },
  {
   "cell_type": "code",
   "execution_count": 12,
   "metadata": {},
   "outputs": [
    {
     "data": {
      "text/plain": [
       "19"
      ]
     },
     "execution_count": 12,
     "metadata": {},
     "output_type": "execute_result"
    }
   ],
   "source": [
    "haps_vgsc = haps[loc_vgsc]\n",
    "ac_vgsc = haps_vgsc.count_alleles(max_allele=2)\n",
    "ann_vgsc = ann_combined[loc_vgsc]\n",
    "loc_vgsc_missense = (ann_vgsc['Annotation'] == b'missense_variant') & (ac_vgsc[:, 1] > 7)\n",
    "np.count_nonzero(loc_vgsc_missense)"
   ]
  },
  {
   "cell_type": "code",
   "execution_count": 13,
   "metadata": {},
   "outputs": [
    {
     "data": {
      "text/plain": [
       "['Arg254Lys',\n",
       " 'Val402Leu',\n",
       " 'Asp466His',\n",
       " 'Met490Ile',\n",
       " 'Thr791Met',\n",
       " 'Leu995Ser',\n",
       " 'Leu995Phe',\n",
       " 'Ala1125Val',\n",
       " 'Ile1527Thr',\n",
       " 'Asn1570Tyr',\n",
       " 'Glu1597Gly',\n",
       " 'Ala1746Ser',\n",
       " 'Val1853Ile',\n",
       " 'Ile1868Thr',\n",
       " 'Pro1874Ser',\n",
       " 'Pro1874Leu',\n",
       " 'Phe1920Ser',\n",
       " 'Ala1934Val',\n",
       " 'Ile1940Thr']"
      ]
     },
     "execution_count": 13,
     "metadata": {},
     "output_type": "execute_result"
    }
   ],
   "source": [
    "haps_vgsc_missense = haps_vgsc[loc_vgsc_missense]\n",
    "lbl_vgsc_missense = [l[2:] for l in ann_vgsc[loc_vgsc_missense]['HGVS_p'].astype('U')]\n",
    "lbl_vgsc_missense"
   ]
  },
  {
   "cell_type": "markdown",
   "metadata": {},
   "source": [
    "#### split up haplotype data"
   ]
  },
  {
   "cell_type": "code",
   "execution_count": 14,
   "metadata": {},
   "outputs": [
    {
     "data": {
      "text/plain": [
       "(156848, (163966,))"
      ]
     },
     "execution_count": 14,
     "metadata": {},
     "output_type": "execute_result"
    }
   ],
   "source": [
    "# define types of variants to include in EHH analysis - should be mostly neutral\n",
    "loc_type_neutral = ((ann_combined['Annotation'] == b'intergenic_region') | \n",
    "                    (ann_combined['Annotation'] == b'intron_variant') |\n",
    "                    (ann_combined['Annotation'] == b'downstream_gene_variant') |\n",
    "                    (ann_combined['Annotation'] == b'upstream_gene_variant') |\n",
    "                    (ann_combined['Annotation'] == b'synonymous_variant') |\n",
    "                    (ann_combined['Annotation'] == b'3_prime_UTR_variant') |\n",
    "                    (ann_combined['Annotation'] == b'5_prime_UTR_variant') \n",
    "                    )\n",
    "np.count_nonzero(loc_type_neutral), loc_type_neutral.shape"
   ]
  },
  {
   "cell_type": "markdown",
   "metadata": {},
   "source": [
    "...sort out singletons"
   ]
  },
  {
   "cell_type": "code",
   "execution_count": 15,
   "metadata": {},
   "outputs": [
    {
     "data": {
      "text/plain": [
       "(52221, 111612, (163966,))"
      ]
     },
     "execution_count": 15,
     "metadata": {},
     "output_type": "execute_result"
    }
   ],
   "source": [
    "# locate singletons - will exclude from EHH analysis\n",
    "#NB the EHH analysis doesn't need the multiallelics - we've excluded them from the ac_combined so we can use AMs code\n",
    "loc_sgl_bi = (ac_combined[:,:2].min(axis=1) == 1) & (ac_combined.is_biallelic_01())\n",
    "\n",
    "loc_nosgl_bi = (ac_combined[:,:2].min(axis=1) > 1) & (ac_combined.is_biallelic_01())\n",
    "np.count_nonzero(loc_sgl_bi), np.count_nonzero(loc_nosgl_bi), loc_nosgl_bi.shape"
   ]
  },
  {
   "cell_type": "code",
   "execution_count": 16,
   "metadata": {},
   "outputs": [
    {
     "data": {
      "text/plain": [
       "(107531, (163966,))"
      ]
     },
     "execution_count": 16,
     "metadata": {},
     "output_type": "execute_result"
    }
   ],
   "source": [
    "# these are the variants to use for EHH - missing var are multiallelics\n",
    "loc_ehh = loc_type_neutral & loc_nosgl_bi\n",
    "np.count_nonzero(loc_ehh), loc_ehh.shape"
   ]
  },
  {
   "cell_type": "code",
   "execution_count": 17,
   "metadata": {},
   "outputs": [
    {
     "data": {
      "text/plain": [
       "(56314, (163966,))"
      ]
     },
     "execution_count": 17,
     "metadata": {},
     "output_type": "execute_result"
    }
   ],
   "source": [
    "# these are the variants to use for mutational distance\n",
    "# include non-neutral mutations\n",
    "loc_mut = loc_sgl_bi | ~loc_type_neutral\n",
    "np.count_nonzero(loc_mut), loc_mut.shape"
   ]
  },
  {
   "cell_type": "code",
   "execution_count": 18,
   "metadata": {},
   "outputs": [
    {
     "data": {
      "text/html": [
       "<div class=\"allel allel-DisplayAs2D\"><span>&lt;HaplotypeArray shape=(56314, 1530) dtype=int8&gt;</span><table><thead><tr><th></th><th style=\"text-align: center\">0</th><th style=\"text-align: center\">1</th><th style=\"text-align: center\">2</th><th style=\"text-align: center\">3</th><th style=\"text-align: center\">4</th><th style=\"text-align: center\">...</th><th style=\"text-align: center\">1525</th><th style=\"text-align: center\">1526</th><th style=\"text-align: center\">1527</th><th style=\"text-align: center\">1528</th><th style=\"text-align: center\">1529</th></tr></thead><tbody><tr><th style=\"text-align: center; background-color: white; border-right: 1px solid black; \">0</th><td style=\"text-align: center\">0</td><td style=\"text-align: center\">0</td><td style=\"text-align: center\">0</td><td style=\"text-align: center\">0</td><td style=\"text-align: center\">0</td><td style=\"text-align: center\">...</td><td style=\"text-align: center\">0</td><td style=\"text-align: center\">0</td><td style=\"text-align: center\">0</td><td style=\"text-align: center\">0</td><td style=\"text-align: center\">0</td></tr><tr><th style=\"text-align: center; background-color: white; border-right: 1px solid black; \">1</th><td style=\"text-align: center\">0</td><td style=\"text-align: center\">0</td><td style=\"text-align: center\">0</td><td style=\"text-align: center\">0</td><td style=\"text-align: center\">0</td><td style=\"text-align: center\">...</td><td style=\"text-align: center\">0</td><td style=\"text-align: center\">0</td><td style=\"text-align: center\">0</td><td style=\"text-align: center\">0</td><td style=\"text-align: center\">0</td></tr><tr><th style=\"text-align: center; background-color: white; border-right: 1px solid black; \">2</th><td style=\"text-align: center\">0</td><td style=\"text-align: center\">0</td><td style=\"text-align: center\">0</td><td style=\"text-align: center\">0</td><td style=\"text-align: center\">0</td><td style=\"text-align: center\">...</td><td style=\"text-align: center\">0</td><td style=\"text-align: center\">0</td><td style=\"text-align: center\">0</td><td style=\"text-align: center\">0</td><td style=\"text-align: center\">0</td></tr><tr><th style=\"text-align: center; background-color: white; border-right: 1px solid black; \">...</th><td style=\"text-align: center\" colspan=\"12\">...</td></tr><tr><th style=\"text-align: center; background-color: white; border-right: 1px solid black; \">56311</th><td style=\"text-align: center\">0</td><td style=\"text-align: center\">0</td><td style=\"text-align: center\">0</td><td style=\"text-align: center\">0</td><td style=\"text-align: center\">0</td><td style=\"text-align: center\">...</td><td style=\"text-align: center\">0</td><td style=\"text-align: center\">0</td><td style=\"text-align: center\">0</td><td style=\"text-align: center\">0</td><td style=\"text-align: center\">0</td></tr><tr><th style=\"text-align: center; background-color: white; border-right: 1px solid black; \">56312</th><td style=\"text-align: center\">0</td><td style=\"text-align: center\">0</td><td style=\"text-align: center\">0</td><td style=\"text-align: center\">0</td><td style=\"text-align: center\">0</td><td style=\"text-align: center\">...</td><td style=\"text-align: center\">0</td><td style=\"text-align: center\">0</td><td style=\"text-align: center\">0</td><td style=\"text-align: center\">0</td><td style=\"text-align: center\">0</td></tr><tr><th style=\"text-align: center; background-color: white; border-right: 1px solid black; \">56313</th><td style=\"text-align: center\">0</td><td style=\"text-align: center\">0</td><td style=\"text-align: center\">0</td><td style=\"text-align: center\">0</td><td style=\"text-align: center\">0</td><td style=\"text-align: center\">...</td><td style=\"text-align: center\">0</td><td style=\"text-align: center\">0</td><td style=\"text-align: center\">0</td><td style=\"text-align: center\">0</td><td style=\"text-align: center\">0</td></tr></tbody></table></div>"
      ],
      "text/plain": [
       "<HaplotypeArray shape=(56314, 1530) dtype=int8>\n",
       "0 0 0 0 0 ... 0 0 0 0 0\n",
       "0 0 0 0 0 ... 0 0 0 0 0\n",
       "0 0 0 0 0 ... 0 0 0 0 0\n",
       "...\n",
       "0 0 0 0 0 ... 0 0 0 0 0\n",
       "0 0 0 0 0 ... 0 0 0 0 0\n",
       "0 0 0 0 0 ... 0 0 0 0 0"
      ]
     },
     "execution_count": 18,
     "metadata": {},
     "output_type": "execute_result"
    }
   ],
   "source": [
    "haps_mut = haps[loc_mut]\n",
    "pos_mut = pos_combined[loc_mut]\n",
    "haps_mut"
   ]
  },
  {
   "cell_type": "code",
   "execution_count": 19,
   "metadata": {},
   "outputs": [
    {
     "data": {
      "text/plain": [
       "(10212, 10213)"
      ]
     },
     "execution_count": 19,
     "metadata": {},
     "output_type": "execute_result"
    }
   ],
   "source": [
    "haps_ehh = haps[loc_ehh]\n",
    "pos_ehh = pos_combined[loc_ehh]\n",
    "#check\n",
    "pos_mut.locate_key(pos_kdr_s), pos_mut.locate_key(pos_kdr_f)"
   ]
  },
  {
   "cell_type": "code",
   "execution_count": 20,
   "metadata": {},
   "outputs": [
    {
     "data": {
      "text/html": [
       "<div>\n",
       "<style>\n",
       "    .dataframe thead tr:only-child th {\n",
       "        text-align: right;\n",
       "    }\n",
       "\n",
       "    .dataframe thead th {\n",
       "        text-align: left;\n",
       "    }\n",
       "\n",
       "    .dataframe tbody tr th {\n",
       "        vertical-align: top;\n",
       "    }\n",
       "</style>\n",
       "<table border=\"1\" class=\"dataframe\">\n",
       "  <thead>\n",
       "    <tr style=\"text-align: right;\">\n",
       "      <th></th>\n",
       "      <th>label</th>\n",
       "      <th>ox_code</th>\n",
       "      <th>population</th>\n",
       "      <th>label_aug</th>\n",
       "      <th>country</th>\n",
       "      <th>region</th>\n",
       "      <th>sex</th>\n",
       "      <th>m_s</th>\n",
       "      <th>kt_2la</th>\n",
       "      <th>kt_2rb</th>\n",
       "    </tr>\n",
       "    <tr>\n",
       "      <th>index</th>\n",
       "      <th></th>\n",
       "      <th></th>\n",
       "      <th></th>\n",
       "      <th></th>\n",
       "      <th></th>\n",
       "      <th></th>\n",
       "      <th></th>\n",
       "      <th></th>\n",
       "      <th></th>\n",
       "      <th></th>\n",
       "    </tr>\n",
       "  </thead>\n",
       "  <tbody>\n",
       "    <tr>\n",
       "      <th>0</th>\n",
       "      <td>AB0085-Ca</td>\n",
       "      <td>AB0085-C</td>\n",
       "      <td>BFS</td>\n",
       "      <td>AB0085-Ca [Burkina Faso, Pala, S, F]</td>\n",
       "      <td>Burkina Faso</td>\n",
       "      <td>Pala</td>\n",
       "      <td>F</td>\n",
       "      <td>S</td>\n",
       "      <td>2.0</td>\n",
       "      <td>2.0</td>\n",
       "    </tr>\n",
       "    <tr>\n",
       "      <th>1</th>\n",
       "      <td>AB0085-Cb</td>\n",
       "      <td>AB0085-C</td>\n",
       "      <td>BFS</td>\n",
       "      <td>AB0085-Cb [Burkina Faso, Pala, S, F]</td>\n",
       "      <td>Burkina Faso</td>\n",
       "      <td>Pala</td>\n",
       "      <td>F</td>\n",
       "      <td>S</td>\n",
       "      <td>2.0</td>\n",
       "      <td>2.0</td>\n",
       "    </tr>\n",
       "    <tr>\n",
       "      <th>2</th>\n",
       "      <td>AB0087-Ca</td>\n",
       "      <td>AB0087-C</td>\n",
       "      <td>BFM</td>\n",
       "      <td>AB0087-Ca [Burkina Faso, Bana, M, F]</td>\n",
       "      <td>Burkina Faso</td>\n",
       "      <td>Bana</td>\n",
       "      <td>F</td>\n",
       "      <td>M</td>\n",
       "      <td>2.0</td>\n",
       "      <td>1.0</td>\n",
       "    </tr>\n",
       "    <tr>\n",
       "      <th>3</th>\n",
       "      <td>AB0087-Cb</td>\n",
       "      <td>AB0087-C</td>\n",
       "      <td>BFM</td>\n",
       "      <td>AB0087-Cb [Burkina Faso, Bana, M, F]</td>\n",
       "      <td>Burkina Faso</td>\n",
       "      <td>Bana</td>\n",
       "      <td>F</td>\n",
       "      <td>M</td>\n",
       "      <td>2.0</td>\n",
       "      <td>1.0</td>\n",
       "    </tr>\n",
       "    <tr>\n",
       "      <th>4</th>\n",
       "      <td>AB0088-Ca</td>\n",
       "      <td>AB0088-C</td>\n",
       "      <td>BFM</td>\n",
       "      <td>AB0088-Ca [Burkina Faso, Bana, M, F]</td>\n",
       "      <td>Burkina Faso</td>\n",
       "      <td>Bana</td>\n",
       "      <td>F</td>\n",
       "      <td>M</td>\n",
       "      <td>2.0</td>\n",
       "      <td>0.0</td>\n",
       "    </tr>\n",
       "  </tbody>\n",
       "</table>\n",
       "</div>"
      ],
      "text/plain": [
       "           label   ox_code population                             label_aug  \\\n",
       "index                                                                         \n",
       "0      AB0085-Ca  AB0085-C        BFS  AB0085-Ca [Burkina Faso, Pala, S, F]   \n",
       "1      AB0085-Cb  AB0085-C        BFS  AB0085-Cb [Burkina Faso, Pala, S, F]   \n",
       "2      AB0087-Ca  AB0087-C        BFM  AB0087-Ca [Burkina Faso, Bana, M, F]   \n",
       "3      AB0087-Cb  AB0087-C        BFM  AB0087-Cb [Burkina Faso, Bana, M, F]   \n",
       "4      AB0088-Ca  AB0088-C        BFM  AB0088-Ca [Burkina Faso, Bana, M, F]   \n",
       "\n",
       "            country region sex m_s  kt_2la  kt_2rb  \n",
       "index                                               \n",
       "0      Burkina Faso   Pala   F   S     2.0     2.0  \n",
       "1      Burkina Faso   Pala   F   S     2.0     2.0  \n",
       "2      Burkina Faso   Bana   F   M     2.0     1.0  \n",
       "3      Burkina Faso   Bana   F   M     2.0     1.0  \n",
       "4      Burkina Faso   Bana   F   M     2.0     0.0  "
      ]
     },
     "execution_count": 20,
     "metadata": {},
     "output_type": "execute_result"
    }
   ],
   "source": [
    "# read in haplotype metadata to get population\n",
    "df_haplotypes = phase1_ar31.df_haplotypes\n",
    "df_haplotypes = df_haplotypes[df_haplotypes.population != 'colony']\n",
    "df_haplotypes.head()"
   ]
  },
  {
   "cell_type": "markdown",
   "metadata": {},
   "source": [
    "#### split flanks"
   ]
  },
  {
   "cell_type": "code",
   "execution_count": 21,
   "metadata": {},
   "outputs": [
    {
     "data": {
      "text/plain": [
       "array([     45,     255,     258, ..., 1574721, 1574726, 1574734], dtype=int32)"
      ]
     },
     "execution_count": 21,
     "metadata": {},
     "output_type": "execute_result"
    }
   ],
   "source": [
    "core_pos = pos_kdr_f\n",
    "# split the EHH dataset\n",
    "dist_ehh_right, dist_ehh_left, haps_ehh_right, haps_ehh_left = hapclust.split_flanks(haps_ehh, pos_ehh, core_pos)\n",
    "# these give the distance from the core position to each downstream variant, moving away from the core\n",
    "dist_ehh_right"
   ]
  },
  {
   "cell_type": "code",
   "execution_count": 22,
   "metadata": {},
   "outputs": [
    {
     "data": {
      "text/plain": [
       "array([      0,      82,     353, ..., 1574719, 1574720, 1574729], dtype=int32)"
      ]
     },
     "execution_count": 22,
     "metadata": {},
     "output_type": "execute_result"
    }
   ],
   "source": [
    "# split the mutations dataset\n",
    "dist_mut_right, dist_mut_left, haps_mut_right, haps_mut_left = hapclust.split_flanks(haps_mut, pos_mut, core_pos)\n",
    "dist_mut_right"
   ]
  },
  {
   "cell_type": "code",
   "execution_count": 23,
   "metadata": {
    "collapsed": true
   },
   "outputs": [],
   "source": [
    "is_accessible = phase1_ar3.accessibility['2L/is_accessible'][:]"
   ]
  },
  {
   "cell_type": "markdown",
   "metadata": {},
   "source": [
    "#### analyse maximal haplotype sharing "
   ]
  },
  {
   "cell_type": "code",
   "execution_count": 24,
   "metadata": {
    "collapsed": true
   },
   "outputs": [],
   "source": [
    "idx_sorted_right, nspl_right, nspd_right, muts_right = hapclust.neighbour_haplotype_sharing(haps_ehh_right, haps_mut_right, dist_ehh_right, dist_mut_right)\n",
    "idx_sorted_left, nspl_left, nspd_left, muts_left = hapclust.neighbour_haplotype_sharing(haps_ehh_left, haps_mut_left, dist_ehh_left, dist_mut_left)\n",
    "\n",
    "# compute accessible lengths - needed for mutation analysis\n",
    "nspd_right_accessible = hapclust.haplotype_accessible_length(nspd_right, core_pos=core_pos, is_accessible=is_accessible, flank='right')\n",
    "nspd_left_accessible = hapclust.haplotype_accessible_length(nspd_left, core_pos=core_pos, is_accessible=is_accessible, flank='left')"
   ]
  },
  {
   "cell_type": "code",
   "execution_count": 25,
   "metadata": {
    "collapsed": true
   },
   "outputs": [],
   "source": [
    "# assume constant recombination rate\n",
    "rr_right = 1.5e-8\n",
    "# adjust recombination rate on left flank (factor derived from pairwise analysis below)\n",
    "rr_left = rr_right * 0.37\n",
    "\n",
    "# assumed mutation rate\n",
    "mu_right = 3.5e-9\n",
    "# adjust mutation rate on left flank (factor derived from pairwise analysis below)\n",
    "mu_left = mu_right * 0.61"
   ]
  },
  {
   "cell_type": "code",
   "execution_count": 26,
   "metadata": {
    "collapsed": true
   },
   "outputs": [],
   "source": [
    "pops_right = df_haplotypes.population[idx_sorted_right]\n",
    "pop_colors_right = [phase1_ar3.pop_colors[p] for p in pops_right]\n",
    "pops_left = df_haplotypes.population[idx_sorted_left]\n",
    "pop_colors_left = [phase1_ar3.pop_colors[p] for p in pops_left]"
   ]
  },
  {
   "cell_type": "markdown",
   "metadata": {},
   "source": [
    "#### analyse pairwise haplotype sharing"
   ]
  },
  {
   "cell_type": "code",
   "execution_count": 27,
   "metadata": {
    "collapsed": true
   },
   "outputs": [],
   "source": [
    "pspl_right, pspd_right, pmuts_right = hapclust.pairwise_haplotype_sharing(haps_ehh_right, haps_mut_right, dist_ehh_right, dist_mut_right, jitter=False)\n",
    "pspl_left, pspd_left, pmuts_left = hapclust.pairwise_haplotype_sharing(haps_ehh_left, haps_mut_left, dist_ehh_left, dist_mut_left, jitter=False)\n",
    "pspd_right_accessible = hapclust.haplotype_accessible_length(pspd_right, core_pos=core_pos, is_accessible=is_accessible, flank='right')\n",
    "pspd_left_accessible = hapclust.haplotype_accessible_length(pspd_left, core_pos=core_pos, is_accessible=is_accessible, flank='left')"
   ]
  },
  {
   "cell_type": "code",
   "execution_count": 28,
   "metadata": {},
   "outputs": [
    {
     "data": {
      "image/png": "[encoded data removed]",
      "text/plain": [
       "<matplotlib.figure.Figure at 0x7fc4a13dd940>"
      ]
     },
     "metadata": {},
     "output_type": "display_data"
    }
   ],
   "source": [
    "palette = sns.color_palette(n_colors=11)\n",
    "sns.palplot(palette);"
   ]
  },
  {
   "cell_type": "code",
   "execution_count": 29,
   "metadata": {
    "collapsed": true
   },
   "outputs": [],
   "source": [
    "#t_hat adjustments\n",
    "pt_hat_left = (1 + pmuts_left) / (2 * (pspd_left * rr_left + pspd_left_accessible * mu_left))\n",
    "pt_hat_right = (1 + pmuts_right) / (2 * (pspd_right * rr_right + pspd_right_accessible * mu_right))"
   ]
  },
  {
   "cell_type": "code",
   "execution_count": 30,
   "metadata": {
    "collapsed": true
   },
   "outputs": [],
   "source": [
    "pspd_both = pspd_left + pspd_right\n",
    "pmuts_both = pmuts_left + pmuts_right\n",
    "psgl_both = pspd_left * rr_left + pspd_right * rr_right\n",
    "psml_both = pspd_left_accessible * mu_left + pspd_right_accessible * mu_right\n",
    "pt_hat_both = (1 + pmuts_both) / (2 * (psgl_both + psml_both))"
   ]
  },
  {
   "cell_type": "markdown",
   "metadata": {},
   "source": [
    "#### dendrogram clustering"
   ]
  },
  {
   "cell_type": "code",
   "execution_count": 33,
   "metadata": {
    "collapsed": true
   },
   "outputs": [],
   "source": [
    "def plot_dendrogram(dist, cut_height=1e3, yscale='log', ylim=(10, 1e6), linkage_method='average',\n",
    "                    n_clusters=14):\n",
    "    \"\"\"This function plots a dendrogram using scipy and provides some utilities for annotating clusters.\"\"\"\n",
    "    \n",
    "    z = scipy.cluster.hierarchy.linkage(dist, method=linkage_method)\n",
    "\n",
    "    fig = plt.figure(figsize=(16, 8), )\n",
    "    gs = mpl.gridspec.GridSpec(nrows=3, ncols=1, height_ratios=[6, .5, 4], hspace=0)\n",
    "\n",
    "    ax = fig.add_subplot(gs[0])\n",
    "    sns.despine(ax=ax, offset=3, bottom=True, top=False)\n",
    "    r = scipy.cluster.hierarchy.dendrogram(\n",
    "        z, no_labels=True, count_sort=True, \n",
    "        color_threshold=0, \n",
    "        above_threshold_color='k',\n",
    "        ax=ax)\n",
    "    ax.set_ylim(*ylim)\n",
    "    ax.set_yscale(yscale)\n",
    "    # ax.set_ylim(bottom=-1000)\n",
    "    xmin, xmax = ax.xaxis.get_data_interval()\n",
    "    xticklabels = np.array(list(range(0, len(df_haplotypes), 200)) + [len(df_haplotypes)])\n",
    "    xticks = xticklabels / len(df_haplotypes)\n",
    "    xticks = (xticks * (xmax - xmin)) + xmin\n",
    "    ax.set_xticks(xticks)\n",
    "    ax.set_xticklabels(xticklabels)\n",
    "    ax.set_xlabel('Haplotypes')\n",
    "    ax.xaxis.set_label_position('top')\n",
    "    ax.set_ylabel('$\\hat{t}$', rotation=0, ha='right')\n",
    "\n",
    "    cluster_palette = sns.color_palette('Set3', n_colors=12)\n",
    "    if cut_height:\n",
    "        ax.axhline(cut_height, linestyle='--', color='k')\n",
    "        # find clusters\n",
    "        f = scipy.cluster.hierarchy.fcluster(z, cut_height, criterion='distance')\n",
    "        # compute cluster sizes\n",
    "        fsz = np.bincount(f)\n",
    "        # sort largest first\n",
    "        fsort = np.argsort(fsz)[::-1]\n",
    "        # take largest n\n",
    "        fsort = fsort[:n_clusters]\n",
    "        # get haplotype indices for each cluster\n",
    "        clusters = [set(np.nonzero(f == i)[0]) for i in fsort]\n",
    "        clusters_leaves = [sorted([r['leaves'].index(i) for i in cluster])\n",
    "                           for cluster in clusters]\n",
    "        ixs = np.argsort([min(cl) for cl in clusters_leaves])\n",
    "        clusters = [clusters[i] for i in ixs]\n",
    "        clusters_leaves = [clusters_leaves[i] for i in ixs]\n",
    "        for i, cluster_leaves in enumerate(clusters_leaves):\n",
    "            color = cluster_palette[i % len(cluster_palette)]\n",
    "            x1, x2 = min(cluster_leaves), max(cluster_leaves)\n",
    "#             ax.axvline(x1*10, color='k', linestyle='--')\n",
    "#             ax.axvline(x2*10, color='k', linestyle='--')\n",
    "            ax.fill_between([x1*10, x2*10], 0, cut_height, color=color, alpha=.4, zorder=20)\n",
    "#             ax.axvspan(x1*10, x2*10, color=color, zorder=-20, alpha=.5)\n",
    "            ax.text((x1*10 + x2*10) / 2, ylim[0], str(i), ha='center', va='top')\n",
    "        \n",
    "    ax = fig.add_subplot(gs[1], )\n",
    "    sns.despine(ax=ax, left=True, bottom=True)\n",
    "    pops = df_haplotypes.population[r['leaves']]\n",
    "    pop_colors = [phase1_ar3.pop_colors[p] for p in pops]\n",
    "    ax.broken_barh([(i, 1) for i in range(len(df_haplotypes))], yrange=(0, 1), color=pop_colors)\n",
    "    ax.set_xlim(0, len(df_haplotypes))\n",
    "    ax.set_yticks([])\n",
    "    ax.set_ylabel('Population', rotation=0, ha='right', va='center')\n",
    "    ax.set_xticks([])\n",
    "    if cut_height:\n",
    "        for i, cluster_leaves in enumerate(clusters_leaves):\n",
    "            color = cluster_palette[i % len(cluster_palette)]\n",
    "            x1, x2 = min(cluster_leaves), max(cluster_leaves)\n",
    "            ax.axvline(x1, color='k', linestyle='--', zorder=20)\n",
    "            ax.axvline(x2, color='k', linestyle='--', zorder=20)\n",
    "\n",
    "    ax = fig.add_subplot(gs[2])\n",
    "    hapclust.plot_haplotypes(ax, haps_vgsc_missense[:, r['leaves']], lbl_vgsc_missense)\n",
    "    ax.set_xlim(0, len(df_haplotypes))\n",
    "    ax.set_xlabel('Haplotypes')\n",
    "    if cut_height:\n",
    "        for i, cluster_leaves in enumerate(clusters_leaves):\n",
    "            color = cluster_palette[i % len(cluster_palette)]\n",
    "            x1, x2 = min(cluster_leaves), max(cluster_leaves)\n",
    "            ax.axvline(x1, color='k', linestyle='--', zorder=20)\n",
    "            ax.axvline(x2, color='k', linestyle='--', zorder=20)\n",
    "            ax.axvspan(x1, x2, color=color, zorder=20, alpha=.4)\n",
    "\n",
    "    gs.tight_layout(fig, h_pad=0)\n",
    "    return clusters"
   ]
  },
  {
   "cell_type": "code",
   "execution_count": 34,
   "metadata": {},
   "outputs": [
    {
     "data": {
      "image/png": "[encoded data removed]",
      "text/plain": [
       "<matplotlib.figure.Figure at 0x7fc457dc1d30>"
      ]
     },
     "metadata": {},
     "output_type": "display_data"
    }
   ],
   "source": [
    "# canonical dendrogram we'll use for cluster analyses\n",
    "clusters = plot_dendrogram(pt_hat_both, cut_height=2e3)"
   ]
  },
  {
   "cell_type": "markdown",
   "metadata": {},
   "source": [
    "# age comparison"
   ]
  },
  {
   "cell_type": "code",
   "execution_count": 35,
   "metadata": {},
   "outputs": [
    {
     "data": {
      "text/html": [
       "<div class=\"allel allel-DisplayAs2D\"><span>&lt;HaplotypeArray shape=(19, 1530) dtype=int8&gt;</span><table><thead><tr><th></th><th style=\"text-align: center\">0</th><th style=\"text-align: center\">1</th><th style=\"text-align: center\">2</th><th style=\"text-align: center\">3</th><th style=\"text-align: center\">4</th><th style=\"text-align: center\">...</th><th style=\"text-align: center\">1525</th><th style=\"text-align: center\">1526</th><th style=\"text-align: center\">1527</th><th style=\"text-align: center\">1528</th><th style=\"text-align: center\">1529</th></tr></thead><tbody><tr><th style=\"text-align: center; background-color: white; border-right: 1px solid black; \">0</th><td style=\"text-align: center\">0</td><td style=\"text-align: center\">0</td><td style=\"text-align: center\">0</td><td style=\"text-align: center\">0</td><td style=\"text-align: center\">0</td><td style=\"text-align: center\">...</td><td style=\"text-align: center\">0</td><td style=\"text-align: center\">0</td><td style=\"text-align: center\">0</td><td style=\"text-align: center\">0</td><td style=\"text-align: center\">0</td></tr><tr><th style=\"text-align: center; background-color: white; border-right: 1px solid black; \">1</th><td style=\"text-align: center\">0</td><td style=\"text-align: center\">0</td><td style=\"text-align: center\">2</td><td style=\"text-align: center\">0</td><td style=\"text-align: center\">0</td><td style=\"text-align: center\">...</td><td style=\"text-align: center\">0</td><td style=\"text-align: center\">0</td><td style=\"text-align: center\">0</td><td style=\"text-align: center\">0</td><td style=\"text-align: center\">0</td></tr><tr><th style=\"text-align: center; background-color: white; border-right: 1px solid black; \">2</th><td style=\"text-align: center\">0</td><td style=\"text-align: center\">0</td><td style=\"text-align: center\">0</td><td style=\"text-align: center\">0</td><td style=\"text-align: center\">0</td><td style=\"text-align: center\">...</td><td style=\"text-align: center\">0</td><td style=\"text-align: center\">0</td><td style=\"text-align: center\">0</td><td style=\"text-align: center\">0</td><td style=\"text-align: center\">0</td></tr><tr><th style=\"text-align: center; background-color: white; border-right: 1px solid black; \">...</th><td style=\"text-align: center\" colspan=\"12\">...</td></tr><tr><th style=\"text-align: center; background-color: white; border-right: 1px solid black; \">16</th><td style=\"text-align: center\">0</td><td style=\"text-align: center\">0</td><td style=\"text-align: center\">0</td><td style=\"text-align: center\">0</td><td style=\"text-align: center\">0</td><td style=\"text-align: center\">...</td><td style=\"text-align: center\">0</td><td style=\"text-align: center\">0</td><td style=\"text-align: center\">0</td><td style=\"text-align: center\">0</td><td style=\"text-align: center\">0</td></tr><tr><th style=\"text-align: center; background-color: white; border-right: 1px solid black; \">17</th><td style=\"text-align: center\">0</td><td style=\"text-align: center\">0</td><td style=\"text-align: center\">0</td><td style=\"text-align: center\">1</td><td style=\"text-align: center\">0</td><td style=\"text-align: center\">...</td><td style=\"text-align: center\">0</td><td style=\"text-align: center\">0</td><td style=\"text-align: center\">0</td><td style=\"text-align: center\">0</td><td style=\"text-align: center\">0</td></tr><tr><th style=\"text-align: center; background-color: white; border-right: 1px solid black; \">18</th><td style=\"text-align: center\">0</td><td style=\"text-align: center\">0</td><td style=\"text-align: center\">0</td><td style=\"text-align: center\">0</td><td style=\"text-align: center\">0</td><td style=\"text-align: center\">...</td><td style=\"text-align: center\">0</td><td style=\"text-align: center\">0</td><td style=\"text-align: center\">0</td><td style=\"text-align: center\">0</td><td style=\"text-align: center\">0</td></tr></tbody></table></div>"
      ],
      "text/plain": [
       "<HaplotypeArray shape=(19, 1530) dtype=int8>\n",
       "0 0 0 0 0 ... 0 0 0 0 0\n",
       "0 0 2 0 0 ... 0 0 0 0 0\n",
       "0 0 0 0 0 ... 0 0 0 0 0\n",
       "...\n",
       "0 0 0 0 0 ... 0 0 0 0 0\n",
       "0 0 0 1 0 ... 0 0 0 0 0\n",
       "0 0 0 0 0 ... 0 0 0 0 0"
      ]
     },
     "execution_count": 35,
     "metadata": {},
     "output_type": "execute_result"
    }
   ],
   "source": [
    "haps_vgsc_missense"
   ]
  },
  {
   "cell_type": "code",
   "execution_count": 36,
   "metadata": {},
   "outputs": [
    {
     "data": {
      "text/plain": [
       "[12, 17, 42, 51, 456, 16, 18, 73, 14, 194, 79, 12, 108, 165]"
      ]
     },
     "execution_count": 36,
     "metadata": {},
     "output_type": "execute_result"
    }
   ],
   "source": [
    "[len(c) for c in clusters]"
   ]
  },
  {
   "cell_type": "markdown",
   "metadata": {
    "collapsed": true
   },
   "source": [
    "##### need to fix these names to match the Ag1000g paper;\n",
    "- new - Ag1000g\n",
    "\n",
    "- F1 - F4\n",
    "- F2 - F3\n",
    "- F3 - F1\n",
    "- F4 - F2\n",
    "- F5 - F5\n",
    "\n",
    "- L1 - NA\n",
    "- L2 - NA\n",
    "\n",
    "- S1 - S4/5\n",
    "- S2 - S2\n",
    "- S3 - S1\n",
    "- S4 - S3\n",
    "\n"
   ]
  },
  {
   "cell_type": "code",
   "execution_count": 37,
   "metadata": {
    "collapsed": true
   },
   "outputs": [],
   "source": [
    "# pick these out of the clusters we made earlier\n",
    "f4 = clusters[2]\n",
    "f3 = clusters[3]\n",
    "f1 = clusters[4]\n",
    "l1 = clusters[5]\n",
    "l2 = clusters[6]\n",
    "s4 = clusters[7]\n",
    "f2 = clusters[8]\n",
    "f5 = clusters[9]\n",
    "s2 = clusters[10]\n",
    "s1 = clusters[12]\n",
    "s3 = clusters[13]"
   ]
  },
  {
   "cell_type": "code",
   "execution_count": 38,
   "metadata": {
    "collapsed": true
   },
   "outputs": [],
   "source": [
    "# rhg = \"resistance haplogroups\"\n",
    "rhg = [f1, f2, f3, f4, f5, s1, s2, s3, s4, l1, l2]\n",
    "rhg_labels = 'F1 F2 F3 F4 F5 S1 S2 S3 S4 L1 L2'.split()"
   ]
  },
  {
   "cell_type": "code",
   "execution_count": 40,
   "metadata": {},
   "outputs": [
    {
     "data": {
      "text/plain": [
       "[456, 14, 51, 42, 194, 108, 79, 165, 73, 16, 18]"
      ]
     },
     "execution_count": 40,
     "metadata": {},
     "output_type": "execute_result"
    }
   ],
   "source": [
    "[len(c) for c in rhg]"
   ]
  },
  {
   "cell_type": "code",
   "execution_count": 39,
   "metadata": {},
   "outputs": [
    {
     "name": "stdout",
     "output_type": "stream",
     "text": [
      "F1\n",
      "[('BFS', 162), ('BFM', 110), ('AOM', 90), ('GNS', 62), ('CMS', 32)]\n",
      "F2\n",
      "[('CMS', 14)]\n",
      "F3\n",
      "[('CMS', 51)]\n",
      "F4\n",
      "[('CMS', 26), ('GAS', 16)]\n",
      "F5\n",
      "[('CMS', 170), ('GAS', 24)]\n",
      "S1\n",
      "[('UGS', 108)]\n",
      "S2\n",
      "[('GAS', 71), ('CMS', 8)]\n",
      "S3\n",
      "[('UGS', 98), ('KES', 67)]\n",
      "S4\n",
      "[('CMS', 73)]\n",
      "L1\n",
      "[('KES', 16)]\n",
      "L2\n",
      "[('BFM', 18)]\n"
     ]
    }
   ],
   "source": [
    "for g, l in zip(rhg, rhg_labels):\n",
    "    print(l)\n",
    "    print(collections.Counter(df_haplotypes.population[sorted(g)]).most_common())"
   ]
  },
  {
   "cell_type": "markdown",
   "metadata": {},
   "source": [
    "## F or S"
   ]
  },
  {
   "cell_type": "code",
   "execution_count": null,
   "metadata": {},
   "outputs": [],
   "source": [
    "# compare F haplogroups\n",
    "def compare_F(ax=None, ylab=True, xlab=True, yticks=True, xticks=False):\n",
    "    if ax==None:\n",
    "        fig, ax = plt.subplots()\n",
    "    else:\n",
    "        ax = ax\n",
    "    for g, l, cl in zip(rhg[:5], rhg_labels[:5], palette):\n",
    "        ixs = allel.condensed_coords_within(g, len(df_haplotypes))\n",
    "        x = np.log10(pt_hat_both[ixs])\n",
    "        md = np.median(x)\n",
    "        #print(l, md)\n",
    "        sns.distplot(x, bins=np.linspace(1, 3, 20), label=l, hist=False, \n",
    "                     kde_kws=dict(linewidth=2, color=cl))\n",
    "        ax.axvline(md, color=cl, linestyle='--', lw=2)\n",
    "        \n",
    "    if xlab == True:\n",
    "        ax.set_ylabel('Density', fontsize=14)\n",
    "    ax.set_xlim(1, 4)\n",
    "    ticks = [1, 2, 3, 4]\n",
    "    \n",
    "    ax.set_xticks(ticks)\n",
    "    \n",
    "    \n",
    "\n",
    "    ax.set_title('995F haplogroups', fontsize=14)\n",
    "    if xticks == True:\n",
    "        ax.set_xticklabels(['$10^{%s}$' % t for t in ticks])\n",
    "    else:\n",
    "        ax.xaxis.set_ticklabels([])\n",
    "    if ylab == True:\n",
    "        ax.set_xlabel('$\\hat{t}$ (generations)')\n",
    "        \n",
    "    ax.set_ylim(0,2)\n",
    "    if yticks == False:\n",
    "        ax.yaxis.set_ticklabels([]);\n",
    "\n",
    "    ax.set_yticklabels(labels=[0.00, 0.25, 0.50, 0.75, 1.00, 1.25, 1.50, 1.75, 2.00],fontsize=12)\n",
    "compare_F()"
   ]
  },
  {
   "cell_type": "code",
   "execution_count": null,
   "metadata": {},
   "outputs": [],
   "source": [
    "# compare S haplogroups\n",
    "def compare_S(ax=None, ylab=True, xlab=True, yticks=True):\n",
    "    if ax == None:\n",
    "        fig, ax = plt.subplots()\n",
    "    else:\n",
    "        ax = ax\n",
    "    for g, l, cl in zip(rhg[5:9], rhg_labels[5:9], palette):\n",
    "        ixs = allel.condensed_coords_within(g, len(df_haplotypes))\n",
    "        x = np.log10(pt_hat_both[ixs])\n",
    "        md = np.median(x)\n",
    "        #print(l, md)\n",
    "        sns.distplot(x, bins=np.linspace(1, 3, 20), label=l, hist=False, \n",
    "                     kde_kws=dict(linewidth=2, color=cl))\n",
    "        ax.axvline(md, color=cl, linestyle='--', lw=2)\n",
    "    if xlab == True:\n",
    "        ax.set_ylabel('Density', fontsize=14)\n",
    "    \n",
    "    ax.set_xlim(1, 4)\n",
    "    ticks = [1, 2, 3, 4]\n",
    "    ax.set_xticks(ticks)\n",
    "    ax.set_title('995S haplogroups', fontsize=14)\n",
    "    ax.set_xticklabels(['$10^{%s}$' % t for t in ticks], fontsize=12)\n",
    "\n",
    "    if ylab == True:\n",
    "        ax.set_xlabel('$\\hat{t}$ (generations)', fontsize=14)\n",
    "    ax.set_ylim(0,2)\n",
    "    if yticks == False:\n",
    "        ax.yaxis.set_ticklabels([]);\n",
    "    ax.set_yticklabels(labels=[0.00, 0.25, 0.50, 0.75, 1.00, 1.25, 1.50, 1.75, 2.00],fontsize=12)\n",
    "compare_S()"
   ]
  },
  {
   "cell_type": "code",
   "execution_count": null,
   "metadata": {},
   "outputs": [],
   "source": [
    "# compare S haplogroups\n",
    "def compare_L(ax=None, ylab=True, xlab=True, yticks=True):\n",
    "    if ax == None:\n",
    "        fig, ax = plt.subplots()\n",
    "    else:\n",
    "        ax = ax\n",
    "    for g, l, cl in zip(rhg[9:], rhg_labels[9:], palette):\n",
    "        ixs = allel.condensed_coords_within(g, len(df_haplotypes))\n",
    "        x = np.log10(pt_hat_both[ixs])\n",
    "        md = np.median(x)\n",
    "        #print(l, md)\n",
    "        sns.distplot(x, bins=np.linspace(1, 3, 20), label=l, hist=False, \n",
    "                     kde_kws=dict(linewidth=2, color=cl))\n",
    "        ax.axvline(np.median(x), color=cl, linestyle='--', lw=2)\n",
    "    if xlab == True:\n",
    "        ax.set_ylabel('Density')\n",
    "    ax.set_xlim(1, 4)\n",
    "    ticks = [1, 2, 3, 4]\n",
    "    ax.set_xticks(ticks)\n",
    "    ax.set_title('995L haplogroups', fontsize=14)\n",
    "    ax.set_xticklabels(['$10^{%s}$' % t for t in ticks])\n",
    "    ax.set_ylim(0,2)\n",
    "    if ylab == True:\n",
    "        ax.set_xlabel('$\\hat{t}$ (generations)')\n",
    "    if yticks == False:\n",
    "        ax.yaxis.set_ticklabels([]);\n",
    "compare_L()"
   ]
  },
  {
   "cell_type": "code",
   "execution_count": null,
   "metadata": {},
   "outputs": [],
   "source": [
    "#all?\n",
    "fig, ax = plt.subplots()\n",
    "for g, l, cl in zip(rhg, rhg_labels, palette):\n",
    "    ixs = allel.condensed_coords_within(g, len(df_haplotypes))\n",
    "    x = np.log10(pt_hat_both[ixs])\n",
    "    md = np.median(x)\n",
    "    print(l, md)\n",
    "    sns.distplot(x, bins=np.linspace(1, 3, 20), label=l, hist=False, \n",
    "                 kde_kws=dict(linewidth=2, color=cl))\n",
    "    ax.axvline(np.median(x), color=cl, linestyle='--', lw=2)\n",
    "ax.set_ylabel('Density')\n",
    "ax.set_xlim(1, 4)\n",
    "ticks = [1, 2, 3, 4]\n",
    "ax.set_xticks(ticks)\n",
    "ax.set_xticklabels(['$10^{%s}$' % t for t in ticks])\n",
    "ax.set_xlabel('$\\hat{t}$ (generations)');"
   ]
  },
  {
   "cell_type": "markdown",
   "metadata": {},
   "source": [
    "## within haplogroups"
   ]
  },
  {
   "cell_type": "code",
   "execution_count": null,
   "metadata": {
    "collapsed": true
   },
   "outputs": [],
   "source": [
    "#make a dict to update pop labels \n",
    "labdic = {\n",
    "    'CMS': 'CM$Ag$',\n",
    "    'KES': 'KE',\n",
    "    'UGS': 'UG$Ag$',\n",
    "    'GAS': 'GA$Ag$',\n",
    "    'AOM': 'AO$Ac$',\n",
    "    'BFS': 'BF$Ag$',\n",
    "    'BFM': 'BF$Ac$',\n",
    "    'GNS': 'GN$Ag$',\n",
    "}"
   ]
  },
  {
   "cell_type": "code",
   "execution_count": null,
   "metadata": {
    "collapsed": true
   },
   "outputs": [],
   "source": [
    "#bootstrap the mean t_hat\n",
    "def bootstrap(x, n, f):\n",
    "    dtype = np.array(f(x)).dtype\n",
    "    out = np.zeros(n, dtype=dtype)\n",
    "    for i in range(n):\n",
    "        ix = np.random.choice(x.shape[0], size=x.shape[0], replace=True)\n",
    "        out[i] = f(x[ix])\n",
    "    return out"
   ]
  },
  {
   "cell_type": "code",
   "execution_count": null,
   "metadata": {
    "collapsed": true
   },
   "outputs": [],
   "source": [
    "def distplot_cluster_pop_t_hat(cluster, title, ax=None, ylab=True, yticks=True, xlab=True, xticks=True):\n",
    "    cluster = list(cluster)\n",
    "    pops_clst = df_haplotypes.population[cluster]\n",
    "    pops_unique = pops_clst.unique()\n",
    "    pops_subclusters = [np.array(cluster)[(pops_clst == p).values] for p in pops_unique]\n",
    "    \n",
    "    if ax == None:\n",
    "        fig, ax = plt.subplots()\n",
    "    else:\n",
    "        ax = ax\n",
    "    for g, l in zip(pops_subclusters, pops_unique):\n",
    "        ixs = allel.condensed_coords_within(g, len(df_haplotypes))\n",
    "        x = np.log10(pt_hat_both[ixs])\n",
    "        color = phase1_ar3.pop_colors[l]\n",
    "        md = np.median(x)\n",
    "        bs = bootstrap(x, 1000, np.median)\n",
    "        lbl = '%s (%.0f; 95%% CI [%.0f, %.0f])' % (labdic[l], 10**md, \n",
    "                                               10**np.percentile(bs, 2.5), \n",
    "                                               10**np.percentile(bs, 97.5))\n",
    "        sns.distplot(x, bins=np.linspace(1, 3, 20), label=lbl, hist=False, \n",
    "                     kde_kws=dict(linewidth=2, color=color, label=lbl))\n",
    "        ax.axvspan(np.percentile(bs, 2.5), np.percentile(bs, 97.5), \n",
    "                   color=color, alpha=.3)\n",
    "        ax.axvline(md, color=color, lw=2, linestyle='--')\n",
    "    \n",
    "    #ax.set_xlabel('$\\hat{t}$')\n",
    "    if ylab == True:\n",
    "        ax.set_ylabel(' ')\n",
    "    ax.set_xlim(1, 4)\n",
    "    ticks = [1, 2, 3, 4]\n",
    "    ax.set_xticks(ticks)\n",
    "    if xticks == True:\n",
    "        ax.set_xticklabels(['$10^{%s}$' % t for t in ticks], fontsize=12)\n",
    "    else:\n",
    "        ax.set_xticklabels([])\n",
    "    if xlab == True:\n",
    "        ax.set_xlabel('$\\hat{t}$ (generations)', fontsize=12)\n",
    "    ax.set_title(title, fontsize=14)\n",
    "    ax.legend(bbox_to_anchor=(1, 1), loc='upper right', fontsize=10)\n",
    "    ax.set_ylim(0,2)\n",
    "    if yticks == False:\n",
    "        ax.yaxis.set_ticklabels([])\n",
    "        ##ax.yaxis.set_major_locator(plt.NullLocator());\n",
    "    #fig.tight_layout()"
   ]
  },
  {
   "cell_type": "code",
   "execution_count": null,
   "metadata": {},
   "outputs": [],
   "source": [
    "distplot_cluster_pop_t_hat(f3, 'Haplogroup F3')"
   ]
  },
  {
   "cell_type": "code",
   "execution_count": null,
   "metadata": {},
   "outputs": [],
   "source": [
    "distplot_cluster_pop_t_hat(f5, 'Haplogroup F5')"
   ]
  },
  {
   "cell_type": "code",
   "execution_count": null,
   "metadata": {},
   "outputs": [],
   "source": [
    "distplot_cluster_pop_t_hat(s4, 'Haplogroup S4')"
   ]
  },
  {
   "cell_type": "code",
   "execution_count": null,
   "metadata": {},
   "outputs": [],
   "source": [
    "distplot_cluster_pop_t_hat(s2, 'Haplogroup S2')"
   ]
  },
  {
   "cell_type": "code",
   "execution_count": null,
   "metadata": {},
   "outputs": [],
   "source": [
    "distplot_cluster_pop_t_hat(f1, 'Haplogroup F1')"
   ]
  },
  {
   "cell_type": "markdown",
   "metadata": {
    "collapsed": true
   },
   "source": [
    "### create composite figure"
   ]
  },
  {
   "cell_type": "code",
   "execution_count": null,
   "metadata": {},
   "outputs": [],
   "source": [
    "fig = plt.figure(figsize=(16, 6), )\n",
    "gs = mpl.gridspec.GridSpec(nrows=2, ncols=3)\n",
    "\n",
    "ax = fig.add_subplot(gs[0,0])\n",
    "compare_F(ax=ax, ylab=False)\n",
    "ax = fig.add_subplot(gs[0,1])\n",
    "compare_S(ax=ax, ylab=False, xlab=False, yticks=False)\n",
    "ax = fig.add_subplot(gs[0,2])\n",
    "compare_L(ax=ax, ylab=False, xlab=False, yticks=False)\n",
    "ax = fig.add_subplot(gs[1,0])\n",
    "distplot_cluster_pop_t_hat(f1, 'Haplogroup F1', ax=ax)\n",
    "ax = fig.add_subplot(gs[1,1])\n",
    "distplot_cluster_pop_t_hat(f5, 'Haplogroup F5', ax=ax, xlab=False, yticks=False)\n",
    "ax = fig.add_subplot(gs[1,2])\n",
    "distplot_cluster_pop_t_hat(s3, 'Haplogroup S3', ax=ax, xlab=False, yticks=False)\n",
    "\n",
    "gs.tight_layout(fig)\n",
    "fn = '../artwork/Figure_3_RelativeAges.jpeg'\n",
    "fig.savefig(fn, jpeg_quality=100, dpi=100, bbox_inches='tight')"
   ]
  },
  {
   "cell_type": "markdown",
   "metadata": {
    "collapsed": true
   },
   "source": [
    "### maybe tweak it - ditch gabon and maybe 995L -> 2x2     - there will be table of actual means in the Supp"
   ]
  },
  {
   "cell_type": "code",
   "execution_count": null,
   "metadata": {},
   "outputs": [],
   "source": [
    "fig = plt.figure(figsize=(16, 6), )\n",
    "gs = mpl.gridspec.GridSpec(nrows=2, ncols=2)\n",
    "ax = fig.add_subplot(gs[0,0])\n",
    "compare_F(ax=ax, ylab=False, xlab=True)\n",
    "ax = fig.add_subplot(gs[1,0])\n",
    "compare_S(ax=ax, ylab=True, xlab=True)\n",
    "\n",
    "ax = fig.add_subplot(gs[0,1])\n",
    "distplot_cluster_pop_t_hat(f1, 'Haplogroup F1', ax=ax, ylab=True, yticks=False, xlab=False, xticks=False)\n",
    "\n",
    "ax = fig.add_subplot(gs[1,1])\n",
    "distplot_cluster_pop_t_hat(s3, 'Haplogroup S3', ax=ax, ylab=True, yticks=False)\n",
    "\n",
    "gs.tight_layout(fig)\n",
    "fn = '../artwork/Figure_3_RelativeAges_tweak.jpeg'\n",
    "fig.savefig(fn, jpeg_quality=100, dpi=100, bbox_inches='tight')"
   ]
  },
  {
   "cell_type": "code",
   "execution_count": null,
   "metadata": {},
   "outputs": [],
   "source": [
    "fig = plt.figure(figsize=(16, 6), )\n",
    "gs = mpl.gridspec.GridSpec(nrows=2, ncols=2)\n",
    "ax = fig.add_subplot(gs[0,0])\n",
    "compare_F(ax=ax, ylab=False, xlab=True)\n",
    "ax = fig.add_subplot(gs[1,0])\n",
    "compare_S(ax=ax, ylab=True, xlab=True)\n",
    "\n",
    "ax = fig.add_subplot(gs[0,1])\n",
    "distplot_cluster_pop_t_hat(f1, 'Haplogroup F1', ax=ax, ylab=True, yticks=False, xlab=False, xticks=False)\n",
    "\n",
    "ax = fig.add_subplot(gs[1,1])\n",
    "distplot_cluster_pop_t_hat(s3, 'Haplogroup S3', ax=ax, ylab=True, yticks=False)\n",
    "\n",
    "gs.tight_layout(fig)\n",
    "fn = '../artwork/Figure_3_RelativeAges_tweak.pdf'\n",
    "fig.savefig(fn, bbox_inches='tight')"
   ]
  },
  {
   "cell_type": "code",
   "execution_count": null,
   "metadata": {
    "collapsed": true
   },
   "outputs": [],
   "source": []
  },
  {
   "cell_type": "code",
   "execution_count": null,
   "metadata": {
    "collapsed": true
   },
   "outputs": [],
   "source": []
  },
  {
   "cell_type": "code",
   "execution_count": null,
   "metadata": {
    "collapsed": true
   },
   "outputs": [],
   "source": []
  },
  {
   "cell_type": "markdown",
   "metadata": {
    "collapsed": true
   },
   "source": [
    "## NEED TO FIX THE SNS LEGEND FONT SIZE - and the Ylabel sig figs"
   ]
  },
  {
   "cell_type": "code",
   "execution_count": null,
   "metadata": {
    "collapsed": true
   },
   "outputs": [],
   "source": []
  },
  {
   "cell_type": "code",
   "execution_count": null,
   "metadata": {
    "collapsed": true
   },
   "outputs": [],
   "source": []
  },
  {
   "cell_type": "code",
   "execution_count": null,
   "metadata": {},
   "outputs": [],
   "source": [
    "##### NOTES\n",
    "We need to look at Ghana and Mali to see if we see the 'correct' age pattern shows in gam/col samples from the same site/collection date i.e. that tmrca is shorter in col than gam – UNLIKE WHAT WE SEE IN BURKINA - see below\n",
    "\n",
    "##### Between haplogroups"
   ]
  },
  {
   "cell_type": "markdown",
   "metadata": {},
   "source": [
    "# Stuff for Martin"
   ]
  },
  {
   "cell_type": "code",
   "execution_count": null,
   "metadata": {
    "collapsed": true
   },
   "outputs": [],
   "source": [
    "snp = p3r.locate_range(8564154, 8564160)\n",
    "snp"
   ]
  },
  {
   "cell_type": "code",
   "execution_count": null,
   "metadata": {
    "collapsed": true
   },
   "outputs": [],
   "source": [
    "md_call = phase2_ar1.callset\n",
    "\n",
    "g3r = allel.GenotypeDaskArray(md_call['3R/calldata/genotype'])\n",
    "p3r = allel.SortedIndex(md_call['3R/variants/POS'])\n",
    "\n",
    "ref = md_call['3R/variants/REF'][:]\n",
    "alt = md_call['3R/variants/ALT'][:]\n",
    "aac = md_call['3R/variants/AC'][:]\n",
    "\n",
    "ref_ = ref[snp]\n",
    "alt_ = alt[snp]\n",
    "aac_ = aac[snp]\n",
    "\n",
    "aac_"
   ]
  },
  {
   "cell_type": "code",
   "execution_count": null,
   "metadata": {
    "collapsed": true
   },
   "outputs": [],
   "source": [
    "p_reg = p3r[snp]\n",
    "p_reg"
   ]
  },
  {
   "cell_type": "code",
   "execution_count": null,
   "metadata": {
    "collapsed": true
   },
   "outputs": [],
   "source": [
    "g_reg =g3r[snp]\n",
    "g_reg"
   ]
  },
  {
   "cell_type": "code",
   "execution_count": null,
   "metadata": {
    "collapsed": true
   },
   "outputs": [],
   "source": [
    "ac = g_reg.count_alleles()\n",
    "ac"
   ]
  },
  {
   "cell_type": "code",
   "execution_count": null,
   "metadata": {
    "collapsed": true
   },
   "outputs": [],
   "source": [
    "#per pop?\n",
    "ac_f = g_reg.count_alleles_subpops()\n",
    "df_p2 = pandas.read_csv('~/Git/agam-vgsc-report/data/phase2_samples.meta.txt', delimiter='\\t')\n",
    "\n",
    "pop_dict = {}\n",
    "for p in phase2_ar1.pop_ids:\n",
    "    pop_dict[p] = df_p2[df_p2['population'] == p].index.tolist()\n",
    "\n",
    "ac_pop = g_reg.count_alleles_subpops(pop_dict)\n",
    "\n",
    "for p in ac_pop:\n",
    "    print(p)\n",
    "    print(ac_pop[p][1:2])"
   ]
  },
  {
   "cell_type": "code",
   "execution_count": null,
   "metadata": {
    "collapsed": true
   },
   "outputs": [],
   "source": []
  },
  {
   "cell_type": "code",
   "execution_count": null,
   "metadata": {
    "collapsed": true
   },
   "outputs": [],
   "source": []
  }
 ],
 "metadata": {
  "kernelspec": {
   "display_name": "Python 3",
   "language": "python",
   "name": "python3"
  },
  "language_info": {
   "codemirror_mode": {
    "name": "ipython",
    "version": 3
   },
   "file_extension": ".py",
   "mimetype": "text/x-python",
   "name": "python",
   "nbconvert_exporter": "python",
   "pygments_lexer": "ipython3",
   "version": "3.5.3"
  }
 },
 "nbformat": 4,
 "nbformat_minor": 2
}
