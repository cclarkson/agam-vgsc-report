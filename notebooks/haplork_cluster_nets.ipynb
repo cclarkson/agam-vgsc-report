{
 "cells": [
  {
   "cell_type": "markdown",
   "metadata": {},
   "source": [
    "# Haplotype clustering and networking\n",
    "- this notebook sets up the utilties and generates figures for paper"
   ]
  },
  {
   "cell_type": "code",
   "execution_count": 1,
   "metadata": {
    "collapsed": false,
    "deletable": true,
    "editable": true
   },
   "outputs": [
    {
     "data": {
      "text/html": [
       "<style type=\"text/css\">\n",
       ".container {\n",
       "    width: 100%;\n",
       "}\n",
       "div#notebook {\n",
       "    padding-top: 0;\n",
       "}\n",
       "#header-container {\n",
       "    display: none;\n",
       "}\n",
       "#header-bar {\n",
       "    display: none;\n",
       "}\n",
       "#maintoolbar {\n",
       "    display: none;\n",
       "}\n",
       "#site {\n",
       "    height: auto !important;\n",
       "}\n",
       "</style>"
      ],
      "text/plain": [
       "<IPython.core.display.HTML object>"
      ]
     },
     "metadata": {},
     "output_type": "display_data"
    }
   ],
   "source": [
    "%run hapclust_utils.ipynb"
   ]
  },
  {
   "cell_type": "markdown",
   "metadata": {},
   "source": [
    "## setup data"
   ]
  },
  {
   "cell_type": "code",
   "execution_count": null,
   "metadata": {
    "collapsed": true,
    "deletable": true,
    "editable": true
   },
   "outputs": [],
   "source": [
    "callset = h5py.File('../data/ag1000g.phase1.AR3.1.haplotypes.specific_regions.2L_2358158_2431617.h5', mode='r')\n",
    "region_vgsc = SeqFeature('2L', 2358158, 2431617)\n",
    "genotypes = allel.GenotypeArray(callset['2L/calldata/genotype'])\n",
    "haplotypes = genotypes.to_haplotypes()\n",
    "pos = allel.SortedIndex(callset['2L/variants/POS'])\n",
    "loc = pos.locate_range(region_vgsc.start, region_vgsc.end)\n",
    "h_vgsc = haplotypes[loc]\n",
    "pos_995S = 2422651\n",
    "pos_995F = 2422652\n",
    "loc_995S = haplotypes[pos.locate_key(pos_995S)] == 1\n",
    "loc_995F = haplotypes[pos.locate_key(pos_995F)] == 1\n",
    "h_vgsc_995F = h_vgsc.compress(loc_995F, axis=1)\n",
    "h_vgsc_995S = h_vgsc.compress(loc_995S, axis=1)\n",
    "sample_ids = callset['2L']['samples'][:]\n",
    "hap_ids = np.array(list(itertools.chain(*[[s + b'a', s + b'b'] for s in sample_ids])))\n",
    "hap_ids_995F = hap_ids[loc_995F]\n",
    "hap_ids_995S = hap_ids[loc_995S]\n",
    "tbl_haplotypes = etl.fromtsv('../data/ag1000g.phase1.AR3.1.haplotypes.meta.txt')\n",
    "hap_pops = np.array(tbl_haplotypes.values('population'))\n",
    "hap_pops_995S = hap_pops[loc_995S]\n",
    "hap_pops_995F = hap_pops[loc_995F]\n",
    "\n",
    "# need to use named colors for graphviz\n",
    "pop_colors = {\n",
    "    'AOM': 'brown',\n",
    "    'BFM': 'firebrick1',\n",
    "    'GWA': 'goldenrod1',\n",
    "    'GNS': 'cadetblue1',\n",
    "    'BFS': 'deepskyblue',\n",
    "    'CMS': 'dodgerblue3',\n",
    "    'UGS': 'palegreen',\n",
    "    'GAS': 'olivedrab',\n",
    "    'KES': 'grey47',\n",
    "    'colony': 'black'\n",
    "}\n",
    "\n",
    "hap_colors_995S = np.array([pop_colors[p] for p in hap_pops_995S])\n",
    "hap_colors_995F = np.array([pop_colors[p] for p in hap_pops_995F])"
   ]
  },
  {
   "cell_type": "markdown",
   "metadata": {},
   "source": [
    "## hierarchical clustering"
   ]
  },
  {
   "cell_type": "code",
   "execution_count": null,
   "metadata": {
    "collapsed": false
   },
   "outputs": [],
   "source": [
    "# Default plot... \n",
    "# cuts the tree at height 2 (so max distance within each cluster is 1)...\n",
    "# highlights all clusters...\n",
    "# labels all clusters.\n",
    "fig_haplotypes_clustered(h_vgsc_995S, dpi=150);"
   ]
  },
  {
   "cell_type": "code",
   "execution_count": null,
   "metadata": {
    "collapsed": false
   },
   "outputs": [],
   "source": [
    "# Change the orientation...\n",
    "fig_haplotypes_clustered(h_vgsc_995S, orientation='left', dpi=150);"
   ]
  },
  {
   "cell_type": "code",
   "execution_count": null,
   "metadata": {
    "collapsed": false
   },
   "outputs": [],
   "source": [
    "#try a different cut height\n",
    "fig_haplotypes_clustered(h_vgsc_995S, cut_height=5, dpi=150);"
   ]
  },
  {
   "cell_type": "code",
   "execution_count": null,
   "metadata": {
    "collapsed": false
   },
   "outputs": [],
   "source": [
    "#choose to highlight clusters over a certain size\n",
    "fig_haplotypes_clustered(h_vgsc_995S, dpi=150, highlight_clusters=5);"
   ]
  },
  {
   "cell_type": "code",
   "execution_count": null,
   "metadata": {
    "collapsed": false
   },
   "outputs": [],
   "source": [
    "# Manually choose which clusters to highlight...\n",
    "fig_haplotypes_clustered(h_vgsc_995S, dpi=150, highlight_clusters=[2, 9]);"
   ]
  },
  {
   "cell_type": "code",
   "execution_count": null,
   "metadata": {
    "collapsed": false
   },
   "outputs": [],
   "source": [
    "#turn of cluster labels\n",
    "fig_haplotypes_clustered(h_vgsc_995S, dpi=150, highlight_clusters=5, label_clusters=False);"
   ]
  },
  {
   "cell_type": "code",
   "execution_count": null,
   "metadata": {
    "collapsed": false
   },
   "outputs": [],
   "source": [
    "#use favourite colours\n",
    "fig_haplotypes_clustered(h_vgsc_995S, dpi=150, highlight_clusters=5, label_clusters=False, highlight_colors=['green','darkgreen','green','lightgreen','green',], highlight_alpha=.8);"
   ]
  },
  {
   "cell_type": "markdown",
   "metadata": {},
   "source": [
    "## return values"
   ]
  },
  {
   "cell_type": "code",
   "execution_count": null,
   "metadata": {
    "collapsed": false
   },
   "outputs": [],
   "source": [
    "#checkout all these returns\n",
    "fig, ax_dend, ax_freq, cluster_spans, leaf_obs = fig_haplotypes_clustered(h_vgsc_995S, dpi=150, highlight_clusters=5, label_clusters=5);"
   ]
  },
  {
   "cell_type": "markdown",
   "metadata": {},
   "source": [
    "### customising axes"
   ]
  },
  {
   "cell_type": "code",
   "execution_count": null,
   "metadata": {
    "collapsed": false
   },
   "outputs": [],
   "source": [
    "#e.g. use the returned axes objects (ax_dend, ax_freq) to customise labels etc....\n",
    "fig, ax_dend, ax_freq, cluster_spans, leaf_obs = fig_haplotypes_clustered(h_vgsc_995S, dpi=150, label_clusters=5, highlight_clusters=5, subplot_pad=4)\n",
    "ax_dend.set_title('haplotype structure (L995S)')\n",
    "ax_dend.set_ylabel('distance (no. SNPs)')\n",
    "ax_dend.set_xlabel('blahblahblah')\n",
    "ax_freq.set_ylabel('haplotype frequency');"
   ]
  },
  {
   "cell_type": "markdown",
   "metadata": {},
   "source": [
    "### accessing information about clusters"
   ]
  },
  {
   "cell_type": "code",
   "execution_count": null,
   "metadata": {
    "collapsed": false
   },
   "outputs": [],
   "source": [
    "#cluster spans is useful for accessing info about each cluster\n",
    "cluster_spans"
   ]
  },
  {
   "cell_type": "code",
   "execution_count": null,
   "metadata": {
    "collapsed": true
   },
   "outputs": [],
   "source": [
    "#e.g. cluster labelled 17 in plot\n",
    "cluster_idx = 17\n",
    "dend_start, dend_stop, cluster_hap_indices = cluster_spans[cluster_idx]"
   ]
  },
  {
   "cell_type": "code",
   "execution_count": null,
   "metadata": {
    "collapsed": false
   },
   "outputs": [],
   "source": [
    "dend_start, dend_stop"
   ]
  },
  {
   "cell_type": "code",
   "execution_count": null,
   "metadata": {
    "collapsed": false
   },
   "outputs": [],
   "source": [
    "#indices of haps in cluster\n",
    "cluster_hap_indices"
   ]
  },
  {
   "cell_type": "code",
   "execution_count": null,
   "metadata": {
    "collapsed": false
   },
   "outputs": [],
   "source": [
    "len(cluster_hap_indices)"
   ]
  },
  {
   "cell_type": "code",
   "execution_count": null,
   "metadata": {
    "collapsed": false
   },
   "outputs": [],
   "source": [
    "#these are relative to the haplotype array passed to function - not relative to the 1530 haplotypes!\n",
    "#extract cluster 17 haplotypes\n",
    "cluster_haps = h_vgsc_995S.take(cluster_hap_indices, axis=1)\n",
    "cluster_haps"
   ]
  },
  {
   "cell_type": "markdown",
   "metadata": {},
   "source": [
    "### outputting haplotype data in other formats"
   ]
  },
  {
   "cell_type": "code",
   "execution_count": null,
   "metadata": {
    "collapsed": false
   },
   "outputs": [],
   "source": [
    "#names for haps\n",
    "cluster_hap_ids = hap_ids_995S.take(cluster_hap_indices)\n",
    "cluster_hap_ids.shape, cluster_hap_ids[0]"
   ]
  },
  {
   "cell_type": "code",
   "execution_count": null,
   "metadata": {
    "collapsed": false
   },
   "outputs": [],
   "source": [
    "#dtype and transpose\n",
    "sequences = cluster_haps.astype('S1').T\n",
    "sequences.shape"
   ]
  },
  {
   "cell_type": "code",
   "execution_count": null,
   "metadata": {
    "collapsed": false
   },
   "outputs": [],
   "source": [
    "#write out fasta format\n",
    "cut_height = 2\n",
    "fasta_fn = '../data/hapclust.995S.cut{}.cluster{}.fasta'.format(cut_height, cluster_idx)\n",
    "allel.io.write_fasta(fasta_fn, sequences=list(sequences), names=cluster_hap_ids, mode='w', width=2000)"
   ]
  },
  {
   "cell_type": "code",
   "execution_count": null,
   "metadata": {
    "collapsed": false
   },
   "outputs": [],
   "source": [
    "#make phylip format for TCS inputting\n",
    "fasta_pasta = pyfasta.Fasta(fasta_fn)\n",
    "\n",
    "phylip_fn = '../data/hapclust.995S.cut{}.cluster{}.phy'.format(cut_height, cluster_idx)\n",
    "thefile = open(phylip_fn, 'w')\n",
    "thefile.write(str(sequences.shape[0])+' '+str(sequences.shape[1])+'\\n')\n",
    "for i in fasta_pasta.keys():\n",
    "    j = i.split('-')\n",
    "    k = str(fasta_pasta[i]).replace('0', 'g').replace('1', 'c')\n",
    "    thefile.write(j[0]+j[1]+'__'+k+'\\n')"
   ]
  },
  {
   "cell_type": "markdown",
   "metadata": {},
   "source": [
    "### output all the clusters as .phy to compare with AM's using TCS"
   ]
  },
  {
   "cell_type": "code",
   "execution_count": null,
   "metadata": {
    "collapsed": true
   },
   "outputs": [],
   "source": [
    "def output_all_phy():\n",
    "    \n",
    "    fig, ax_dend, ax_freq, cluster_spans, leaf_obs = fig_haplotypes_clustered(h_vgsc_995S, dpi=150, label_clusters=5, highlight_clusters=5);\n",
    "    for cluster_idx in 2, 9, 12, 14, 17:\n",
    "        dend_start, dend_stop, cluster_hap_indices = cluster_spans[cluster_idx]\n",
    "        cluster_haps = h_vgsc_995S.take(cluster_hap_indices, axis=1)\n",
    "        cluster_hap_ids = hap_ids_995S.take(cluster_hap_indices)\n",
    "        sequences = cluster_haps.astype('S1').T\n",
    "\n",
    "        fasta_fn = '../data/hapclust.995S.cut2.cluster{}.fasta'.format(cluster_idx)\n",
    "        allel.io.write_fasta(fasta_fn, sequences=list(sequences), names=cluster_hap_ids, mode='w', width=2000)\n",
    "\n",
    "        fasta_pasta = pyfasta.Fasta(fasta_fn)\n",
    "        phylip_fn = '../data/hapclust.995S.cut2.cluster{}.phy'.format(cluster_idx)\n",
    "        thefile = open(phylip_fn, 'w')\n",
    "        thefile.write(str(sequences.shape[0])+' '+str(sequences.shape[1])+'\\n')\n",
    "        for i in fasta_pasta.keys():\n",
    "            j = i.split('-')\n",
    "            k = str(fasta_pasta[i]).replace('0', 'g').replace('1', 'c')\n",
    "            thefile.write(j[0]+j[1]+'__'+k+'\\n')\n",
    "\n",
    "                \n",
    "    fig, ax_dend, ax_freq, cluster_spans, leaf_obs = fig_haplotypes_clustered(h_vgsc_995F, dpi=150, label_clusters=5, cut_height=4, highlight_clusters=5);\n",
    "    for cluster_idx in 4, 7, 8, 12, 16:\n",
    "        dend_start, dend_stop, cluster_hap_indices = cluster_spans[cluster_idx]\n",
    "        cluster_haps = h_vgsc_995F.take(cluster_hap_indices, axis=1)\n",
    "        cluster_hap_ids = hap_ids_995F.take(cluster_hap_indices)\n",
    "        sequences = cluster_haps.astype('S1').T\n",
    "\n",
    "        fasta_fn = '../data/hapclust.995F.cut4.cluster{}.fasta'.format(cluster_idx)\n",
    "        allel.io.write_fasta(fasta_fn, sequences=list(sequences), names=cluster_hap_ids, mode='w', width=2000)\n",
    "\n",
    "        fasta_pasta = pyfasta.Fasta(fasta_fn)\n",
    "        phylip_fn = '../data/hapclust.995F.cut4.cluster{}.phy'.format(cluster_idx)\n",
    "        thefile = open(phylip_fn, 'w')\n",
    "        thefile.write(str(sequences.shape[0])+' '+str(sequences.shape[1])+'\\n')\n",
    "        for i in fasta_pasta.keys():\n",
    "            j = i.split('-')\n",
    "            k = str(fasta_pasta[i]).replace('0', 'g').replace('1', 'c')\n",
    "            thefile.write(j[0]+j[1]+'__'+k+'\\n')\n",
    "\n",
    "            \n",
    "        "
   ]
  },
  {
   "cell_type": "code",
   "execution_count": null,
   "metadata": {
    "collapsed": false
   },
   "outputs": [],
   "source": [
    "output_all_phy()"
   ]
  },
  {
   "cell_type": "code",
   "execution_count": null,
   "metadata": {
    "collapsed": true
   },
   "outputs": [],
   "source": []
  }
 ],
 "metadata": {
  "kernelspec": {
   "display_name": "Python 3",
   "language": "python",
   "name": "python3"
  },
  "language_info": {
   "codemirror_mode": {
    "name": "ipython",
    "version": 3
   },
   "file_extension": ".py",
   "mimetype": "text/x-python",
   "name": "python",
   "nbconvert_exporter": "python",
   "pygments_lexer": "ipython3",
   "version": "3.5.3"
  }
 },
 "nbformat": 4,
 "nbformat_minor": 2
}
