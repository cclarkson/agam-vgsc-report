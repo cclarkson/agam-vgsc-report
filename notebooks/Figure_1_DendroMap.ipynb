{
 "cells": [
  {
   "cell_type": "code",
   "execution_count": 1,
   "metadata": {},
   "outputs": [
    {
     "data": {
      "text/html": [
       "<style type=\"text/css\">\n",
       ".container {\n",
       "    width: 100%;\n",
       "}\n",
       "div#notebook {\n",
       "    padding-top: 1em;\n",
       "}\n",
       "#header-container {\n",
       "    display: none;\n",
       "}\n",
       "#header-bar {\n",
       "    display: none;\n",
       "}\n",
       "#maintoolbar {\n",
       "    display: none;\n",
       "}\n",
       "#menubar-container {\n",
       "    position: fixed;\n",
       "    margin-top: 0;\n",
       "}\n",
       "#site {\n",
       "    height: auto !important;\n",
       "}\n",
       "</style>"
      ],
      "text/plain": [
       "<IPython.core.display.HTML object>"
      ]
     },
     "metadata": {},
     "output_type": "display_data"
    },
    {
     "name": "stdout",
     "output_type": "stream",
     "text": [
      "cartopy 0.15.1\n"
     ]
    }
   ],
   "source": [
    "%run setup.ipynb\n",
    "%matplotlib inline\n",
    "import hapclust\n",
    "import cartopy; print('cartopy', cartopy.__version__)\n",
    "import cartopy.crs as ccrs\n",
    "import cartopy.feature as cfeature\n",
    "import pandas as pd\n",
    "import numpy as np"
   ]
  },
  {
   "cell_type": "code",
   "execution_count": 98,
   "metadata": {},
   "outputs": [],
   "source": [
    "#grab these from ag1000g - no need to bring in the meta data file\n",
    "df_lonlat = pd.DataFrame()\n",
    "df_lonlat['pop'] = ['AOM', 'BFM', 'BFS', 'CMS', 'GAS', 'GNS', 'GWA', 'KES', 'UGS']\n",
    "df_lonlat['longitude'] = [13.291000, -4.413900, -4.413900, 13.936844, 9.455000, -9.675065, -15.582000, 39.824614, 34.026000]\n",
    "df_lonlat['latitude'] = [-8.821000, 11.206500,11.206500, 4.937851, 0.384000, 8.887097, 11.891000, -3.702068, 0.770000]\n",
    "df_lonlat = df_lonlat.set_index('pop')"
   ]
  },
  {
   "cell_type": "code",
   "execution_count": 99,
   "metadata": {},
   "outputs": [
    {
     "data": {
      "text/plain": [
       "longitude    13.291\n",
       "latitude     -8.821\n",
       "Name: AOM, dtype: float64"
      ]
     },
     "execution_count": 99,
     "metadata": {},
     "output_type": "execute_result"
    }
   ],
   "source": [
    "#check\n",
    "df_lonlat.loc['AOM']"
   ]
  },
  {
   "cell_type": "code",
   "execution_count": 100,
   "metadata": {},
   "outputs": [
    {
     "name": "stdout",
     "output_type": "stream",
     "text": [
      "AOM -8.821 13.291\n",
      "BFM 11.2065 -4.4139\n",
      "BFS 11.2065 -4.4139\n",
      "CMS 4.937851 13.936844\n",
      "GAS 0.384 9.455\n",
      "GNS 8.887097 -9.675065\n",
      "GWA 11.891 -15.582\n",
      "KES -3.702068 39.824614\n",
      "UGS 0.77 34.026\n"
     ]
    }
   ],
   "source": [
    "#check\n",
    "for country, row in df_lonlat.iterrows():\n",
    "    print(country, row.latitude, row.longitude)"
   ]
  },
  {
   "cell_type": "code",
   "execution_count": 135,
   "metadata": {
    "collapsed": true
   },
   "outputs": [],
   "source": [
    "crs_lonlat = ccrs.PlateCarree()"
   ]
  },
  {
   "cell_type": "code",
   "execution_count": 136,
   "metadata": {
    "collapsed": true
   },
   "outputs": [],
   "source": [
    "ratios=np.asarray([0.5, 0.5])"
   ]
  },
  {
   "cell_type": "code",
   "execution_count": 137,
   "metadata": {},
   "outputs": [
    {
     "data": {
      "text/plain": [
       "1.0"
      ]
     },
     "execution_count": 137,
     "metadata": {},
     "output_type": "execute_result"
    }
   ],
   "source": [
    "sum(ratios)"
   ]
  },
  {
   "cell_type": "code",
   "execution_count": 138,
   "metadata": {
    "collapsed": true
   },
   "outputs": [],
   "source": [
    "def draw_pie(ax, ratios, X, Y, colors, offset=(-300000, 300000), size=1000, lw=0.2):\n",
    "    \n",
    "    N = len(ratios)\n",
    "    #assert ratios.sum() == 1.0, \"ratios must sum to 1.0 not %s\" % ratios.sum()\n",
    "\n",
    "    xy = []\n",
    "    a, b = offset[0]*1e6, offset[1]*1e6\n",
    "    start = 0.\n",
    "    ix = list()\n",
    "    # build xy\n",
    "    for i, ratio in enumerate(ratios):\n",
    "        if ratio > 0:\n",
    "            x = [0] + np.cos(np.linspace(2*math.pi*start,2*math.pi*(start+ratio), \n",
    "                                         int(200*ratio))).tolist()\n",
    "            y = [0] + np.sin(np.linspace(2*math.pi*start,2*math.pi*(start+ratio), \n",
    "                                         int(200*ratio))).tolist()\n",
    "            xy1 = list(zip(x,y))\n",
    "            xy.append(xy1)\n",
    "            ix.append(i)\n",
    "            start += ratio\n",
    "\n",
    "    # if just one segment, then draw a circle.\n",
    "    if len(xy) == 1:\n",
    "        ax.scatter([X + a],[Y + b] , marker=\"o\", s=size, \n",
    "                   facecolor=colors[ix[0]], linewidths=lw,\n",
    "                   edgecolor=\"black\", zorder=20)    \n",
    "    else:\n",
    "        for idx, xyi in zip(ix, xy):\n",
    "            ax.scatter([X + a],[Y + b] , marker=(xyi, 0), s=size, alpha=1.0,\n",
    "                       facecolor=colors[idx], edgecolor=\"black\", linewidths=lw, zorder=20)\n",
    "    \n",
    "    \n",
    "    \n",
    "    # given the offset, draw a triangle pointed at the origin (0, 0)\n",
    "    scaledg = np.abs([a, b]).mean()\n",
    "    grad = a/scaledg, b/scaledg\n",
    "    hypot = np.sqrt(a**2 + b**2)\n",
    "    \n",
    "    A = np.array(grad)\n",
    "    const = 0.15\n",
    "    alength = np.sqrt(A[0]**2 + A[1]**2)\n",
    "    \n",
    "    B = A * alength * const\n",
    "    B1 = np.array([-B[1], B[0]])\n",
    "    B2 = np.array([B[1], -B[0]])\n",
    "    A1 = A + B1\n",
    "    A2 = A + B2\n",
    "        \n",
    "    pointer = [(0, 0), A1, A2]\n",
    "    ax.scatter([X], [Y],\n",
    "               marker=(pointer, 0), \n",
    "               s=scaledg/220, facecolor=\"grey\", edgecolor=\"none\", linewidth=0.5, zorder=9)"
   ]
  },
  {
   "cell_type": "code",
   "execution_count": 139,
   "metadata": {
    "scrolled": false
   },
   "outputs": [
    {
     "name": "stderr",
     "output_type": "stream",
     "text": [
      "/home/chris/Git/agam-vgsc-report/dependencies/miniconda/envs/agam-report-base/lib/python3.5/site-packages/ipykernel_launcher.py:36: RuntimeWarning: invalid value encountered in double_scalars\n",
      "/home/chris/Git/agam-vgsc-report/dependencies/miniconda/envs/agam-report-base/lib/python3.5/site-packages/matplotlib/markers.py:294: RuntimeWarning: invalid value encountered in absolute\n",
      "  rescale = max(np.max(np.abs(verts[:, 0])),\n",
      "/home/chris/Git/agam-vgsc-report/dependencies/miniconda/envs/agam-report-base/lib/python3.5/site-packages/matplotlib/markers.py:295: RuntimeWarning: invalid value encountered in absolute\n",
      "  np.max(np.abs(verts[:, 1])))\n"
     ]
    },
    {
     "data": {
      "image/png": "[encoded data removed]",
      "text/plain": [
       "<matplotlib.figure.Figure at 0x7fbf223085f8>"
      ]
     },
     "metadata": {},
     "output_type": "display_data"
    }
   ],
   "source": [
    "extent_lonlat = (-20, 50, -18, 20)\n",
    "\n",
    "subplot_kw = dict(projection=crs_lonlat)\n",
    "fig, ax = plt.subplots(figsize=(7, 7), subplot_kw=subplot_kw)\n",
    "ax.set_extent(extent_lonlat, crs=crs_lonlat)\n",
    "ax.coastlines(resolution='50m', linewidth=.5)\n",
    "ax.stock_img()\n",
    "#ax.add_feature(cfeature.BORDERS, lw=.5)\n",
    "#ax.add_feature(cfeature.LAKES)\n",
    "#ax.margins(0)\n",
    "for country, row in df_lonlat.iterrows():\n",
    "    ax.add_patch(plt.Circle((row.longitude, row.latitude), radius=.9, color='k'))\n",
    "    draw_pie(ax=ax, ratios=ratios, X=row.longitude , Y=row.latitude, colors=['r', 'b'], size=1000, offset=(0, 0));"
   ]
  },
  {
   "cell_type": "markdown",
   "metadata": {},
   "source": [
    "## what we need to get the haplogroup map sorted!\n",
    "\n",
    "- We got the indices/collection sites of the indv in each haplogroup to make the networks\n",
    "- we just need to know:\n",
    "    - how many haplotypes at each site\n",
    "    - what proportion belong to each of the 10 haplogroups (colours from figure 2)\n",
    "    - what proportion are 'non haplogroup'\n",
    "\n"
   ]
  },
  {
   "cell_type": "code",
   "execution_count": 140,
   "metadata": {
    "collapsed": true
   },
   "outputs": [],
   "source": [
    "#setup data - pinched from hapclust_demo\n",
    "callset = h5py.File('../data/ag1000g.phase1.AR3.1.haplotypes.specific_regions.2L_2358158_2431617.h5',\n",
    "                    mode='r')\n",
    "region_vgsc = SeqFeature('2L', 2358158, 2431617)\n",
    "genotypes = allel.GenotypeArray(callset['2L/calldata/genotype'])\n",
    "haplotypes = genotypes.to_haplotypes()\n",
    "pos = allel.SortedIndex(callset['2L/variants/POS'])\n",
    "loc = pos.locate_range(region_vgsc.start, region_vgsc.end)\n",
    "h_vgsc = haplotypes[loc]\n",
    "pos_995S = 2422651\n",
    "pos_995F = 2422652\n",
    "loc_995S = haplotypes[pos.locate_key(pos_995S)] == 1\n",
    "loc_995F = haplotypes[pos.locate_key(pos_995F)] == 1\n",
    "h_vgsc_995F = h_vgsc.compress(loc_995F, axis=1)\n",
    "h_vgsc_995S = h_vgsc.compress(loc_995S, axis=1)\n",
    "sample_ids = callset['2L']['samples'][:]\n",
    "hap_ids = np.array(list(itertools.chain(*[[s + b'a', s + b'b'] for s in sample_ids])))\n",
    "hap_ids_995F = hap_ids[loc_995F]\n",
    "hap_ids_995S = hap_ids[loc_995S]\n",
    "tbl_haplotypes = etl.fromtsv('../data/ag1000g.phase1.AR3.1.haplotypes.meta.txt')\n",
    "hap_pops = np.array(tbl_haplotypes.values('population'))\n",
    "hap_pops_995S = hap_pops[loc_995S]\n",
    "hap_pops_995F = hap_pops[loc_995F]\n",
    "# need to use named colors for graphviz\n",
    "pop_colors = {\n",
    "    'AOM': 'brown',\n",
    "    'BFM': 'firebrick1',\n",
    "    'GWA': 'goldenrod1',\n",
    "    'GNS': 'cadetblue1',\n",
    "    'BFS': 'deepskyblue',\n",
    "    'CMS': 'dodgerblue3',\n",
    "    'UGS': 'palegreen',\n",
    "    'GAS': 'olivedrab',\n",
    "    'KES': 'grey47',\n",
    "    'colony': 'black'\n",
    "}\n",
    "#associates pop colours with haps\n",
    "hap_colors = np.array([pop_colors[p] for p in hap_pops])\n",
    "hap_colors_995S = np.array([pop_colors[p] for p in hap_pops_995S])\n",
    "hap_colors_995F = np.array([pop_colors[p] for p in hap_pops_995F])"
   ]
  },
  {
   "cell_type": "code",
   "execution_count": 141,
   "metadata": {},
   "outputs": [
    {
     "data": {
      "image/png": "[encoded data removed]",
      "text/plain": [
       "<matplotlib.figure.Figure at 0x7fbf262c0c18>"
      ]
     },
     "metadata": {},
     "output_type": "display_data"
    }
   ],
   "source": [
    "#use the dendro cutting to get the pop freqs for each of the S and F clusters\n",
    "cut_height = 2\n",
    "_, _, _, cluster_spans_995S, leaf_obs_995S = hapclust.fig_haplotypes_clustered(h_vgsc_995S, cut_height=cut_height, dpi=150, \n",
    "                                                                               highlight_clusters=5, label_clusters=5)"
   ]
  },
  {
   "cell_type": "code",
   "execution_count": 142,
   "metadata": {},
   "outputs": [
    {
     "data": {
      "text/plain": [
       "array([  2,   6,   8,   9,  10,  12,  13,  14,  18,  20,  22,  24,  26,\n",
       "        27,  30,  31,  32,  34,  44,  46,  48,  49,  52,  53,  54,  56,\n",
       "        58,  60,  62,  66,  67,  68,  69,  70,  72,  74,  76,  78,  80,\n",
       "        81,  84,  90,  92,  93,  96,  97,  98,  99, 102, 104, 105, 106,\n",
       "       108, 110, 112, 116, 117, 118, 120, 124, 125, 130, 132, 134, 136,\n",
       "       138, 142, 143, 146, 150, 152, 153, 154, 155, 156, 160, 161, 162,\n",
       "       166, 168, 170, 174, 175, 178, 179, 180, 182, 190, 191, 192, 194,\n",
       "       196, 198, 200, 202, 204, 205, 206, 207, 208, 209, 210, 211, 212,\n",
       "       213, 214, 215, 216, 217, 218, 219, 220, 221, 222, 223, 224, 225,\n",
       "       226, 227, 229, 230, 231, 232, 233, 234, 235, 236, 237, 238, 239,\n",
       "       240, 241, 242, 243, 244, 245, 246, 247, 248, 249, 250, 251, 252,\n",
       "       253, 254, 255, 256, 257, 258, 259, 260, 261, 262, 263, 264, 265,\n",
       "       266, 267, 268, 269, 270, 271, 272])"
      ]
     },
     "execution_count": 142,
     "metadata": {},
     "output_type": "execute_result"
    }
   ],
   "source": [
    "#indices of haplotypes, relative to the hap_pops_995S array - use this to get freqs of each pop\n",
    "cluster_spans_995S[17][2]"
   ]
  },
  {
   "cell_type": "code",
   "execution_count": 143,
   "metadata": {},
   "outputs": [
    {
     "data": {
      "image/png": "[encoded data removed]",
      "text/plain": [
       "<matplotlib.figure.Figure at 0x7fbf2244d9b0>"
      ]
     },
     "metadata": {},
     "output_type": "display_data"
    }
   ],
   "source": [
    "#and for F\n",
    "cut_height = 4\n",
    "_, _, _, cluster_spans_995F, leaf_obs_995F = hapclust.fig_haplotypes_clustered(h_vgsc_995F, cut_height=cut_height, dpi=150,\n",
    "                                                                               highlight_clusters=5, label_clusters=5)"
   ]
  },
  {
   "cell_type": "markdown",
   "metadata": {},
   "source": [
    "## haplogroup frequencies across populations"
   ]
  },
  {
   "cell_type": "code",
   "execution_count": 144,
   "metadata": {},
   "outputs": [
    {
     "name": "stdout",
     "output_type": "stream",
     "text": [
      "AOM 120\n",
      "BFM 138\n",
      "BFS 162\n",
      "CMS 550\n",
      "GAS 112\n",
      "GNS 62\n",
      "GWA 92\n",
      "KES 88\n",
      "UGS 206\n",
      "colony 16\n",
      "total = 1546 .   total - colony = 1530\n"
     ]
    }
   ],
   "source": [
    "# we need to know the total number of haplotypes at each site to sort out pie chart size and proportions\n",
    "unique, counts = np.unique(hap_pops, return_counts=True)\n",
    "for u, c in zip(unique, counts):\n",
    "    print(u, c)\n",
    "print(\"total =\",sum(counts), \".   total - colony =\", sum(counts)-16)"
   ]
  },
  {
   "cell_type": "code",
   "execution_count": 145,
   "metadata": {
    "collapsed": true
   },
   "outputs": [],
   "source": [
    "sclu = [17, 14, 12, 9, 2]\n",
    "fclu = [16, 12, 8, 7, 4]\n",
    "pclu = list(np.unique(hap_pops))"
   ]
  },
  {
   "cell_type": "code",
   "execution_count": 146,
   "metadata": {
    "collapsed": true
   },
   "outputs": [],
   "source": [
    "#COUNT HAPS - make lists (columns) for each cluster so that we can turn these into a df \n",
    "\n",
    "def pop_count(hap_pops_type, cluster_spans, clust_list):\n",
    "    \n",
    "    #first set up empty array with 0s\n",
    "    arr = np.zeros([10,5], dtype=int)\n",
    "    \n",
    "    #then loop through haplogroup clusters\n",
    "    for cov in clust_list:\n",
    "        cov_ind = hap_pops_type.take(cluster_spans[cov][2])\n",
    "        unique, counts = np.unique(cov_ind, return_counts=True)\n",
    "        clus_index = clust_list.index(cov)\n",
    "        #then loop through populations present in that haplogroup cluster\n",
    "        for u, c in zip(unique, counts):\n",
    "            pop_index = pclu.index(u)\n",
    "            arr[pop_index, clus_index] = c\n",
    "            #print(clus_index,cov, u, pop_index, c)\n",
    "\n",
    "    return arr"
   ]
  },
  {
   "cell_type": "code",
   "execution_count": 147,
   "metadata": {
    "collapsed": true
   },
   "outputs": [],
   "source": [
    "sarr = pop_count(hap_pops_995S, cluster_spans_995S, sclu)\n",
    "farr = pop_count(hap_pops_995F, cluster_spans_995F, fclu)"
   ]
  },
  {
   "cell_type": "code",
   "execution_count": 148,
   "metadata": {},
   "outputs": [
    {
     "data": {
      "text/html": [
       "<div>\n",
       "<style>\n",
       "    .dataframe thead tr:only-child th {\n",
       "        text-align: right;\n",
       "    }\n",
       "\n",
       "    .dataframe thead th {\n",
       "        text-align: left;\n",
       "    }\n",
       "\n",
       "    .dataframe tbody tr th {\n",
       "        vertical-align: top;\n",
       "    }\n",
       "</style>\n",
       "<table border=\"1\" class=\"dataframe\">\n",
       "  <thead>\n",
       "    <tr style=\"text-align: right;\">\n",
       "      <th></th>\n",
       "      <th>F16</th>\n",
       "      <th>F12</th>\n",
       "      <th>F8</th>\n",
       "      <th>F7</th>\n",
       "      <th>F4</th>\n",
       "      <th>S17</th>\n",
       "      <th>S14</th>\n",
       "      <th>S12</th>\n",
       "      <th>S9</th>\n",
       "      <th>S2</th>\n",
       "      <th>wildtype</th>\n",
       "      <th>total</th>\n",
       "    </tr>\n",
       "    <tr>\n",
       "      <th>pops</th>\n",
       "      <th></th>\n",
       "      <th></th>\n",
       "      <th></th>\n",
       "      <th></th>\n",
       "      <th></th>\n",
       "      <th></th>\n",
       "      <th></th>\n",
       "      <th></th>\n",
       "      <th></th>\n",
       "      <th></th>\n",
       "      <th></th>\n",
       "      <th></th>\n",
       "    </tr>\n",
       "  </thead>\n",
       "  <tbody>\n",
       "    <tr>\n",
       "      <th>AOM</th>\n",
       "      <td>97</td>\n",
       "      <td>0</td>\n",
       "      <td>0</td>\n",
       "      <td>0</td>\n",
       "      <td>0</td>\n",
       "      <td>0</td>\n",
       "      <td>0</td>\n",
       "      <td>0</td>\n",
       "      <td>0</td>\n",
       "      <td>0</td>\n",
       "      <td>23</td>\n",
       "      <td>120</td>\n",
       "    </tr>\n",
       "    <tr>\n",
       "      <th>BFM</th>\n",
       "      <td>117</td>\n",
       "      <td>0</td>\n",
       "      <td>0</td>\n",
       "      <td>0</td>\n",
       "      <td>0</td>\n",
       "      <td>0</td>\n",
       "      <td>0</td>\n",
       "      <td>0</td>\n",
       "      <td>0</td>\n",
       "      <td>0</td>\n",
       "      <td>21</td>\n",
       "      <td>138</td>\n",
       "    </tr>\n",
       "    <tr>\n",
       "      <th>BFS</th>\n",
       "      <td>162</td>\n",
       "      <td>0</td>\n",
       "      <td>0</td>\n",
       "      <td>0</td>\n",
       "      <td>0</td>\n",
       "      <td>0</td>\n",
       "      <td>0</td>\n",
       "      <td>0</td>\n",
       "      <td>0</td>\n",
       "      <td>0</td>\n",
       "      <td>0</td>\n",
       "      <td>162</td>\n",
       "    </tr>\n",
       "    <tr>\n",
       "      <th>CMS</th>\n",
       "      <td>32</td>\n",
       "      <td>169</td>\n",
       "      <td>50</td>\n",
       "      <td>20</td>\n",
       "      <td>14</td>\n",
       "      <td>0</td>\n",
       "      <td>8</td>\n",
       "      <td>35</td>\n",
       "      <td>33</td>\n",
       "      <td>0</td>\n",
       "      <td>189</td>\n",
       "      <td>550</td>\n",
       "    </tr>\n",
       "    <tr>\n",
       "      <th>GAS</th>\n",
       "      <td>0</td>\n",
       "      <td>24</td>\n",
       "      <td>0</td>\n",
       "      <td>16</td>\n",
       "      <td>0</td>\n",
       "      <td>0</td>\n",
       "      <td>70</td>\n",
       "      <td>0</td>\n",
       "      <td>0</td>\n",
       "      <td>0</td>\n",
       "      <td>2</td>\n",
       "      <td>112</td>\n",
       "    </tr>\n",
       "    <tr>\n",
       "      <th>GNS</th>\n",
       "      <td>62</td>\n",
       "      <td>0</td>\n",
       "      <td>0</td>\n",
       "      <td>0</td>\n",
       "      <td>0</td>\n",
       "      <td>0</td>\n",
       "      <td>0</td>\n",
       "      <td>0</td>\n",
       "      <td>0</td>\n",
       "      <td>0</td>\n",
       "      <td>0</td>\n",
       "      <td>62</td>\n",
       "    </tr>\n",
       "    <tr>\n",
       "      <th>GWA</th>\n",
       "      <td>0</td>\n",
       "      <td>0</td>\n",
       "      <td>0</td>\n",
       "      <td>0</td>\n",
       "      <td>0</td>\n",
       "      <td>0</td>\n",
       "      <td>0</td>\n",
       "      <td>0</td>\n",
       "      <td>0</td>\n",
       "      <td>0</td>\n",
       "      <td>92</td>\n",
       "      <td>92</td>\n",
       "    </tr>\n",
       "    <tr>\n",
       "      <th>KES</th>\n",
       "      <td>0</td>\n",
       "      <td>0</td>\n",
       "      <td>0</td>\n",
       "      <td>0</td>\n",
       "      <td>0</td>\n",
       "      <td>66</td>\n",
       "      <td>0</td>\n",
       "      <td>0</td>\n",
       "      <td>0</td>\n",
       "      <td>0</td>\n",
       "      <td>22</td>\n",
       "      <td>88</td>\n",
       "    </tr>\n",
       "    <tr>\n",
       "      <th>UGS</th>\n",
       "      <td>0</td>\n",
       "      <td>0</td>\n",
       "      <td>0</td>\n",
       "      <td>0</td>\n",
       "      <td>0</td>\n",
       "      <td>97</td>\n",
       "      <td>0</td>\n",
       "      <td>0</td>\n",
       "      <td>0</td>\n",
       "      <td>106</td>\n",
       "      <td>3</td>\n",
       "      <td>206</td>\n",
       "    </tr>\n",
       "    <tr>\n",
       "      <th>colony</th>\n",
       "      <td>5</td>\n",
       "      <td>0</td>\n",
       "      <td>0</td>\n",
       "      <td>0</td>\n",
       "      <td>0</td>\n",
       "      <td>0</td>\n",
       "      <td>0</td>\n",
       "      <td>0</td>\n",
       "      <td>0</td>\n",
       "      <td>0</td>\n",
       "      <td>11</td>\n",
       "      <td>16</td>\n",
       "    </tr>\n",
       "  </tbody>\n",
       "</table>\n",
       "</div>"
      ],
      "text/plain": [
       "        F16  F12  F8  F7  F4  S17  S14  S12  S9   S2  wildtype  total\n",
       "pops                                                                 \n",
       "AOM      97    0   0   0   0    0    0    0   0    0        23    120\n",
       "BFM     117    0   0   0   0    0    0    0   0    0        21    138\n",
       "BFS     162    0   0   0   0    0    0    0   0    0         0    162\n",
       "CMS      32  169  50  20  14    0    8   35  33    0       189    550\n",
       "GAS       0   24   0  16   0    0   70    0   0    0         2    112\n",
       "GNS      62    0   0   0   0    0    0    0   0    0         0     62\n",
       "GWA       0    0   0   0   0    0    0    0   0    0        92     92\n",
       "KES       0    0   0   0   0   66    0    0   0    0        22     88\n",
       "UGS       0    0   0   0   0   97    0    0   0  106         3    206\n",
       "colony    5    0   0   0   0    0    0    0   0    0        11     16"
      ]
     },
     "execution_count": 148,
     "metadata": {},
     "output_type": "execute_result"
    }
   ],
   "source": [
    "#make df\n",
    "hap_freq_df = pd.DataFrame()\n",
    "hap_freq_df['pops'] = pclu\n",
    "hap_freq_df.set_index('pops', inplace=True)\n",
    "hap_freq_df['F16'] = farr[:,0]\n",
    "hap_freq_df['F12'] = farr[:,1]\n",
    "hap_freq_df['F8'] = farr[:,2]\n",
    "hap_freq_df['F7'] = farr[:,3]\n",
    "hap_freq_df['F4'] = farr[:,4]\n",
    "hap_freq_df['S17'] = sarr[:,0]\n",
    "hap_freq_df['S14'] = sarr[:,1]\n",
    "hap_freq_df['S12'] = sarr[:,2]\n",
    "hap_freq_df['S9'] = sarr[:,3]\n",
    "hap_freq_df['S2'] = sarr[:,4]\n",
    "hap_freq_df['wildtype'] = counts - list(hap_freq_df.sum(axis=1))\n",
    "hap_freq_df['total'] = counts\n",
    "hap_freq_df"
   ]
  },
  {
   "cell_type": "markdown",
   "metadata": {},
   "source": [
    "## build pies - use colours from original dendrogram"
   ]
  },
  {
   "cell_type": "code",
   "execution_count": 149,
   "metadata": {
    "collapsed": true
   },
   "outputs": [],
   "source": [
    "#from df make 11 slice pie chart proportions (total = 1) for each country\n",
    "#we need pie colours"
   ]
  },
  {
   "cell_type": "code",
   "execution_count": 150,
   "metadata": {},
   "outputs": [
    {
     "data": {
      "text/plain": [
       "[(0.85999999999999999, 0.37119999999999997, 0.33999999999999997),\n",
       " (0.85999999999999999, 0.68320000000000003, 0.33999999999999997),\n",
       " (0.72479999999999989, 0.85999999999999999, 0.33999999999999997),\n",
       " (0.41279999999999994, 0.85999999999999999, 0.33999999999999997),\n",
       " (0.33999999999999997, 0.85999999999999999, 0.57920000000000016),\n",
       " (0.33999999999999997, 0.82879999999999987, 0.85999999999999999),\n",
       " (0.33999999999999997, 0.51679999999999948, 0.85999999999999999),\n",
       " (0.47520000000000029, 0.33999999999999997, 0.85999999999999999),\n",
       " (0.7871999999999999, 0.33999999999999997, 0.85999999999999999),\n",
       " (0.85999999999999999, 0.33999999999999997, 0.62079999999999991),\n",
       " (0.0, 0.0, 0.0)]"
      ]
     },
     "execution_count": 150,
     "metadata": {},
     "output_type": "execute_result"
    }
   ],
   "source": [
    "highlight_colors = sns.color_palette('hls', n_colors=10)\n",
    "#add a final colour for wt - see what this looks like\n",
    "highlight_colors.append((0.0, 0.0, 0.0))\n",
    "#check\n",
    "highlight_colors"
   ]
  },
  {
   "cell_type": "code",
   "execution_count": 151,
   "metadata": {},
   "outputs": [
    {
     "data": {
      "text/html": [
       "<div>\n",
       "<style>\n",
       "    .dataframe thead tr:only-child th {\n",
       "        text-align: right;\n",
       "    }\n",
       "\n",
       "    .dataframe thead th {\n",
       "        text-align: left;\n",
       "    }\n",
       "\n",
       "    .dataframe tbody tr th {\n",
       "        vertical-align: top;\n",
       "    }\n",
       "</style>\n",
       "<table border=\"1\" class=\"dataframe\">\n",
       "  <thead>\n",
       "    <tr style=\"text-align: right;\">\n",
       "      <th></th>\n",
       "      <th>longitude</th>\n",
       "      <th>latitude</th>\n",
       "    </tr>\n",
       "    <tr>\n",
       "      <th>pop</th>\n",
       "      <th></th>\n",
       "      <th></th>\n",
       "    </tr>\n",
       "  </thead>\n",
       "  <tbody>\n",
       "    <tr>\n",
       "      <th>AOM</th>\n",
       "      <td>13.291000</td>\n",
       "      <td>-8.821000</td>\n",
       "    </tr>\n",
       "    <tr>\n",
       "      <th>BFM</th>\n",
       "      <td>-4.413900</td>\n",
       "      <td>11.206500</td>\n",
       "    </tr>\n",
       "    <tr>\n",
       "      <th>BFS</th>\n",
       "      <td>-4.413900</td>\n",
       "      <td>11.206500</td>\n",
       "    </tr>\n",
       "    <tr>\n",
       "      <th>CMS</th>\n",
       "      <td>13.936844</td>\n",
       "      <td>4.937851</td>\n",
       "    </tr>\n",
       "    <tr>\n",
       "      <th>GAS</th>\n",
       "      <td>9.455000</td>\n",
       "      <td>0.384000</td>\n",
       "    </tr>\n",
       "    <tr>\n",
       "      <th>GNS</th>\n",
       "      <td>-9.675065</td>\n",
       "      <td>8.887097</td>\n",
       "    </tr>\n",
       "    <tr>\n",
       "      <th>GWA</th>\n",
       "      <td>-15.582000</td>\n",
       "      <td>11.891000</td>\n",
       "    </tr>\n",
       "    <tr>\n",
       "      <th>KES</th>\n",
       "      <td>39.824614</td>\n",
       "      <td>-3.702068</td>\n",
       "    </tr>\n",
       "    <tr>\n",
       "      <th>UGS</th>\n",
       "      <td>34.026000</td>\n",
       "      <td>0.770000</td>\n",
       "    </tr>\n",
       "  </tbody>\n",
       "</table>\n",
       "</div>"
      ],
      "text/plain": [
       "     longitude   latitude\n",
       "pop                      \n",
       "AOM  13.291000  -8.821000\n",
       "BFM  -4.413900  11.206500\n",
       "BFS  -4.413900  11.206500\n",
       "CMS  13.936844   4.937851\n",
       "GAS   9.455000   0.384000\n",
       "GNS  -9.675065   8.887097\n",
       "GWA -15.582000  11.891000\n",
       "KES  39.824614  -3.702068\n",
       "UGS  34.026000   0.770000"
      ]
     },
     "execution_count": 151,
     "metadata": {},
     "output_type": "execute_result"
    }
   ],
   "source": [
    "df_lonlat"
   ]
  },
  {
   "cell_type": "code",
   "execution_count": 152,
   "metadata": {},
   "outputs": [
    {
     "name": "stderr",
     "output_type": "stream",
     "text": [
      "/home/chris/Git/agam-vgsc-report/dependencies/miniconda/envs/agam-report-base/lib/python3.5/site-packages/ipykernel_launcher.py:36: RuntimeWarning: invalid value encountered in double_scalars\n",
      "/home/chris/Git/agam-vgsc-report/dependencies/miniconda/envs/agam-report-base/lib/python3.5/site-packages/matplotlib/markers.py:294: RuntimeWarning: invalid value encountered in absolute\n",
      "  rescale = max(np.max(np.abs(verts[:, 0])),\n",
      "/home/chris/Git/agam-vgsc-report/dependencies/miniconda/envs/agam-report-base/lib/python3.5/site-packages/matplotlib/markers.py:295: RuntimeWarning: invalid value encountered in absolute\n",
      "  np.max(np.abs(verts[:, 1])))\n"
     ]
    },
    {
     "data": {
      "image/png": "[encoded data removed]",
      "text/plain": [
       "<matplotlib.figure.Figure at 0x7fbf25e71240>"
      ]
     },
     "metadata": {},
     "output_type": "display_data"
    }
   ],
   "source": [
    "extent_lonlat = (-20, 50, -18, 20)\n",
    "\n",
    "subplot_kw = dict(projection=crs_lonlat)\n",
    "fig, ax = plt.subplots(figsize=(10, 10), subplot_kw=subplot_kw)\n",
    "ax.set_extent(extent_lonlat, crs=crs_lonlat)\n",
    "ax.coastlines(resolution='50m', linewidth=.5)\n",
    "ax.stock_img()\n",
    "#ax.add_feature(cfeature.BORDERS, lw=.5)\n",
    "#ax.add_feature(cfeature.LAKES)\n",
    "#ax.margins(0)\n",
    "for pop, row in df_lonlat.iterrows():\n",
    "    ax.add_patch(plt.Circle((row.longitude, row.latitude), radius=0.6, color='k'))\n",
    "    freqs = hap_freq_df.loc[pop]\n",
    "    ratios = np.asarray([freqs[i]/freqs[11] for i in range(11)])\n",
    "    draw_pie(ax=ax, ratios=ratios, X=row.longitude , Y=row.latitude, colors=highlight_colors, size=1000, offset=(0.0, 0.0));\n",
    "    \n",
    "# TO DO - fix CMS ratio (does this fix broken pi) - add legend"
   ]
  },
  {
   "cell_type": "code",
   "execution_count": 153,
   "metadata": {},
   "outputs": [
    {
     "data": {
      "text/plain": [
       "550"
      ]
     },
     "execution_count": 153,
     "metadata": {},
     "output_type": "execute_result"
    }
   ],
   "source": [
    "hap_freq_df.loc['CMS'][11]"
   ]
  },
  {
   "cell_type": "code",
   "execution_count": 128,
   "metadata": {},
   "outputs": [
    {
     "data": {
      "text/plain": [
       "F16          32\n",
       "F12         169\n",
       "F8           50\n",
       "F7           20\n",
       "F4           14\n",
       "S17           0\n",
       "S14           8\n",
       "S12          35\n",
       "S9           33\n",
       "S2            0\n",
       "wildtype    189\n",
       "total       550\n",
       "Name: CMS, dtype: int64"
      ]
     },
     "execution_count": 128,
     "metadata": {},
     "output_type": "execute_result"
    }
   ],
   "source": [
    "freqs = hap_freq_df.loc['CMS']\n",
    "freqs"
   ]
  },
  {
   "cell_type": "code",
   "execution_count": 129,
   "metadata": {},
   "outputs": [
    {
     "data": {
      "text/plain": [
       "0.99999999999999989"
      ]
     },
     "execution_count": 129,
     "metadata": {},
     "output_type": "execute_result"
    }
   ],
   "source": [
    "ratios = [freqs[i]/freqs[11] for i in range(11)]\n",
    "sum(ratios)"
   ]
  },
  {
   "cell_type": "code",
   "execution_count": null,
   "metadata": {
    "collapsed": true
   },
   "outputs": [],
   "source": []
  }
 ],
 "metadata": {
  "kernelspec": {
   "display_name": "Python 3",
   "language": "python",
   "name": "python3"
  },
  "language_info": {
   "codemirror_mode": {
    "name": "ipython",
    "version": 3
   },
   "file_extension": ".py",
   "mimetype": "text/x-python",
   "name": "python",
   "nbconvert_exporter": "python",
   "pygments_lexer": "ipython3",
   "version": "3.5.3"
  }
 },
 "nbformat": 4,
 "nbformat_minor": 2
}
