{
 "cells": [
  {
   "cell_type": "code",
   "execution_count": 1,
   "metadata": {},
   "outputs": [
    {
     "data": {
      "text/html": [
       "<style type=\"text/css\">\n",
       ".container {\n",
       "    width: 100%;\n",
       "}\n",
       "div#notebook {\n",
       "    padding-top: 1em;\n",
       "}\n",
       "#header-container {\n",
       "    display: none;\n",
       "}\n",
       "#header-bar {\n",
       "    display: none;\n",
       "}\n",
       "#maintoolbar {\n",
       "    display: none;\n",
       "}\n",
       "#menubar-container {\n",
       "    position: fixed;\n",
       "    margin-top: 0;\n",
       "}\n",
       "#site {\n",
       "    height: auto !important;\n",
       "}\n",
       "</style>"
      ],
      "text/plain": [
       "<IPython.core.display.HTML object>"
      ]
     },
     "metadata": {},
     "output_type": "display_data"
    }
   ],
   "source": [
    "%%HTML\n",
    "<style type=\"text/css\">\n",
    ".container {\n",
    "    width: 100%;\n",
    "}\n",
    "div#notebook {\n",
    "    padding-top: 1em;\n",
    "}\n",
    "#header-container {\n",
    "    display: none;\n",
    "}\n",
    "#header-bar {\n",
    "    display: none;\n",
    "}\n",
    "#maintoolbar {\n",
    "    display: none;\n",
    "}\n",
    "#menubar-container {\n",
    "    position: fixed;\n",
    "    margin-top: 0;\n",
    "}\n",
    "#site {\n",
    "    height: auto !important;\n",
    "}\n",
    "</style>"
   ]
  },
  {
   "cell_type": "code",
   "execution_count": 2,
   "metadata": {
    "collapsed": true
   },
   "outputs": [],
   "source": [
    "# python standard library\n",
    "import sys\n",
    "import os\n",
    "import operator\n",
    "import itertools\n",
    "import collections\n",
    "import functools\n",
    "import glob\n",
    "import csv\n",
    "import datetime\n",
    "import bisect\n",
    "import sqlite3\n",
    "import subprocess\n",
    "import random\n",
    "import gc\n",
    "import shutil\n",
    "import shelve\n",
    "import contextlib\n",
    "import tempfile\n",
    "import math"
   ]
  },
  {
   "cell_type": "code",
   "execution_count": 3,
   "metadata": {
    "collapsed": true
   },
   "outputs": [],
   "source": [
    "# general purpose third party packages\n",
    "\n",
    "import cython\n",
    "%reload_ext Cython\n",
    "\n",
    "import numpy as np\n",
    "nnz = np.count_nonzero\n",
    "import scipy\n",
    "import scipy.stats\n",
    "import scipy.spatial.distance\n",
    "import numexpr\n",
    "import h5py\n",
    "import tables\n",
    "import bcolz\n",
    "import dask\n",
    "import dask.array as da\n",
    "import pandas\n",
    "import IPython\n",
    "from IPython.display import clear_output, display, HTML\n",
    "import sklearn\n",
    "import sklearn.decomposition\n",
    "import sklearn.manifold\n",
    "import petl as etl\n",
    "etl.config.display_index_header = True\n",
    "import humanize\n",
    "from humanize import naturalsize, intcomma, intword\n",
    "import zarr\n",
    "import graphviz\n",
    "import statsmodels.formula.api as sfa"
   ]
  },
  {
   "cell_type": "code",
   "execution_count": 4,
   "metadata": {
    "collapsed": true
   },
   "outputs": [],
   "source": [
    "# plotting setup\n",
    "import matplotlib as mpl\n",
    "import matplotlib.pyplot as plt\n",
    "from matplotlib.colors import ListedColormap\n",
    "from matplotlib.gridspec import GridSpec\n",
    "import matplotlib_venn as venn\n",
    "import seaborn as sns\n",
    "sns.set_context('paper')\n",
    "sns.set_style('white')\n",
    "sns.set_style('ticks')\n",
    "rcParams = plt.rcParams\n",
    "# N.B., reduced font size\n",
    "base_font_size = 8\n",
    "rcParams['font.size'] = base_font_size\n",
    "rcParams['axes.labelsize'] = base_font_size\n",
    "rcParams['xtick.labelsize'] = base_font_size\n",
    "rcParams['ytick.labelsize'] = base_font_size\n",
    "rcParams['legend.fontsize'] = base_font_size\n",
    "rcParams['axes.linewidth'] = .5\n",
    "rcParams['lines.linewidth'] = .5\n",
    "rcParams['patch.linewidth'] = .5\n",
    "rcParams['ytick.direction'] = 'out'\n",
    "rcParams['xtick.direction'] = 'out'\n",
    "rcParams['savefig.jpeg_quality'] = 100\n",
    "rcParams['lines.markeredgewidth'] = .5\n",
    "rcParams['figure.max_open_warning'] = 1000"
   ]
  },
  {
   "cell_type": "code",
   "execution_count": 5,
   "metadata": {
    "collapsed": true
   },
   "outputs": [],
   "source": [
    "# bio third party packages\n",
    "import Bio\n",
    "import pyfasta\n",
    "import pysam\n",
    "import pysamstats\n",
    "import petlx\n",
    "import petlx.bio\n",
    "import vcf\n",
    "#import vcfnp\n",
    "import anhima\n",
    "import allel"
   ]
  },
  {
   "cell_type": "code",
   "execution_count": 6,
   "metadata": {
    "collapsed": true
   },
   "outputs": [],
   "source": [
    "sys.path.insert(0, '../agam-report-base/src/python')\n",
    "from util import *\n",
    "import zcache\n",
    "import veff\n",
    "# import hapclust\n",
    "ag1k_dir = '../ngs.sanger.ac.uk/production/ag1000g'\n",
    "from ag1k import phase1_ar3\n",
    "phase1_ar3.init(os.path.join(ag1k_dir, 'phase1', 'AR3'))\n",
    "from ag1k import phase1_ar31\n",
    "phase1_ar31.init(os.path.join(ag1k_dir, 'phase1', 'AR3.1'))\n",
    "from ag1k import phase2_ar1\n",
    "phase2_ar1.init(os.path.join(ag1k_dir, 'phase2', 'AR1'))\n"
   ]
  }
 ],
 "metadata": {
  "kernelspec": {
   "display_name": "Python 3",
   "language": "python",
   "name": "python3"
  },
  "language_info": {
   "codemirror_mode": {
    "name": "ipython",
    "version": 3
   },
   "file_extension": ".py",
   "mimetype": "text/x-python",
   "name": "python",
   "nbconvert_exporter": "python",
   "pygments_lexer": "ipython3",
   "version": "3.5.3"
  }
 },
 "nbformat": 4,
 "nbformat_minor": 1
}
